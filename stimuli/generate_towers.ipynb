{
 "cells": [
  {
   "cell_type": "markdown",
   "metadata": {},
   "source": [
    "# Generate towers\n",
    "The purpose of this notebook is to generate a set of towers, evaluate them according to basic metrics and to save them to disk."
   ]
  },
  {
   "cell_type": "code",
   "execution_count": null,
   "metadata": {},
   "outputs": [],
   "source": [
    "import tower_generator\n",
    "\n",
    "import tqdm\n",
    "\n",
    "import pickle\n",
    "\n",
    "import math\n",
    "\n",
    "import numpy as np\n",
    "import matplotlib.pyplot as plt\n",
    "import seaborn as sns\n",
    "import pandas as pd\n",
    "\n",
    "from utils.blockworld_library import *\n",
    "from utils.blockworld import *\n",
    "\n",
    "from model.BFS_Lookahead_Agent import BFS_Lookahead_Agent\n",
    "from model.BFS_Agent import BFS_Agent\n",
    "from model.Astar_Agent import Astar_Agent"
   ]
  },
  {
   "cell_type": "code",
   "execution_count": null,
   "metadata": {},
   "outputs": [],
   "source": [
    "generator = tower_generator.TowerGenerator(8,8,\n",
    "                                        block_library=bl_nonoverlapping_med,\n",
    "                                        seed=42,\n",
    "                                        padding=(2,0)\n",
    "                                        )"
   ]
  },
  {
   "cell_type": "code",
   "execution_count": null,
   "metadata": {},
   "outputs": [],
   "source": [
    "NUM_TOWERS  = 50\n",
    "towers = []\n",
    "for i in tqdm.tqdm(range(NUM_TOWERS)):\n",
    "    towers.append(generator.generate())"
   ]
  },
  {
   "cell_type": "code",
   "execution_count": null,
   "metadata": {},
   "outputs": [],
   "source": [
    "# look at towers\n",
    "def visualize_towers(towers, text_parameters=None):\n",
    "    fig,axes = plt.subplots(math.ceil(len(towers)/5),5,figsize=(20,15*math.ceil(len(towers)/20)))\n",
    "    for axis, tower in zip(axes.flatten(),towers):\n",
    "        axis.imshow(tower['bitmap']*1.0)\n",
    "        if text_parameters is not None:\n",
    "            if type(text_parameters) is not list:\n",
    "                text_parameters = [text_parameters]\n",
    "            for y_offset,text_parameter in enumerate(text_parameters):\n",
    "                axis.text(0,y_offset*1.,str(text_parameter+\": \"+str(tower[text_parameter])),color='gray',fontsize=20)\n",
    "    plt.tight_layout()\n",
    "    plt.show()"
   ]
  },
  {
   "cell_type": "code",
   "execution_count": null,
   "metadata": {},
   "outputs": [],
   "source": [
    "visualize_towers(towers)"
   ]
  },
  {
   "cell_type": "code",
   "execution_count": null,
   "metadata": {},
   "outputs": [],
   "source": [
    "# pickle the towers\n",
    "pickle.dump(towers,open('generated_towers_bl_nonoverlapping_simple.pkl','wb'))"
   ]
  },
  {
   "cell_type": "markdown",
   "metadata": {},
   "source": [
    "## Analyze towers"
   ]
  },
  {
   "cell_type": "code",
   "execution_count": null,
   "metadata": {},
   "outputs": [],
   "source": [
    "# calculate a few additional metrics\n",
    "for tower in towers:\n",
    "    tower['number of blocks'] = len(tower['blocks'])"
   ]
  },
  {
   "cell_type": "code",
   "execution_count": null,
   "metadata": {},
   "outputs": [],
   "source": [
    "def get_tower_cost(agent,tower):\n",
    "    cost = 0\n",
    "    world = Blockworld(silhouette=tower['bitmap'],\n",
    "                       block_library=tower['block_library'],\n",
    "                       physics=True,\n",
    "                       legal_action_space=True)\n",
    "    agent.set_world(world)\n",
    "    while world.status()[0] == 'Ongoing':\n",
    "        _,step_info = agent.act()\n",
    "        cost += step_info['states_evaluated']\n",
    "    return cost,world.status()\n",
    "    "
   ]
  },
  {
   "cell_type": "code",
   "execution_count": null,
   "metadata": {},
   "outputs": [],
   "source": [
    "BFS_builder = BFS_Agent(random_seed=42)\n",
    "Astar_builder = Astar_Agent(random_seed=42)"
   ]
  },
  {
   "cell_type": "code",
   "execution_count": null,
   "metadata": {},
   "outputs": [],
   "source": [
    "for tower in tqdm.tqdm(towers):\n",
    "    BFS_cost,BFS_status = get_tower_cost(BFS_builder,tower)\n",
    "    Astar_cost,Astar_status = get_tower_cost(Astar_builder,tower)\n",
    "    tower['A* cost'] = Astar_cost\n",
    "    tower['BFS cost'] = BFS_cost\n",
    "    tower['A* success'] = Astar_status[0] == 'Win'\n",
    "    tower['BFS success'] = BFS_status[0] == 'Win'"
   ]
  },
  {
   "cell_type": "code",
   "execution_count": null,
   "metadata": {},
   "outputs": [],
   "source": [
    "# pickle the towers\n",
    "pickle.dump(towers,open('generated_evaluated_towers.pkl','wb'))"
   ]
  },
  {
   "cell_type": "code",
   "execution_count": null,
   "metadata": {},
   "outputs": [],
   "source": [
    "# load towers again\n",
    "towers = pickle.load(open('generated_evaluated_towers.pkl','rb'))"
   ]
  },
  {
   "cell_type": "markdown",
   "metadata": {},
   "source": [
    "Add percentiles"
   ]
  },
  {
   "cell_type": "code",
   "execution_count": null,
   "metadata": {},
   "outputs": [],
   "source": [
    "Astar_percentiles = [np.percentile([c['A* cost'] for c in towers], i)\n",
    "               for i in [33, 66, 99]]\n",
    "\n",
    "# which percentile is each tower in?\n",
    "for i,tower in enumerate(towers):\n",
    "    if tower['A* cost'] < Astar_percentiles[0]:\n",
    "        tower['A* percentile'] = 'easy'\n",
    "    elif tower['A* cost'] < Astar_percentiles[1]:\n",
    "        tower['A* percentile'] = 'med'\n",
    "    else:\n",
    "        tower['A* percentile'] = 'hard'\n",
    "\n",
    "BFS_percentiles = [np.percentile([c['BFS cost'] for c in towers], i)\n",
    "                     for i in [33, 66, 99]]\n",
    "\n",
    "# which percentile is each tower in?\n",
    "for i, tower in enumerate(towers):\n",
    "    if tower['BFS cost'] < BFS_percentiles[0]:\n",
    "        tower['BFS percentile'] = 'easy'\n",
    "    elif tower['BFS cost'] < BFS_percentiles[1]:\n",
    "        tower['BFS percentile'] = 'med'\n",
    "    else:\n",
    "        tower['BFS percentile'] = 'hard'\n"
   ]
  },
  {
   "cell_type": "markdown",
   "metadata": {},
   "source": [
    "Plot costs"
   ]
  },
  {
   "cell_type": "code",
   "execution_count": null,
   "metadata": {},
   "outputs": [],
   "source": [
    "# we need the same bins for both plots\n",
    "max_cost = max([max(c['A* cost'],c['BFS cost']) for c in towers])\n",
    "bins = np.linspace(0,max_cost,500)\n",
    "\n",
    "plt.hist([c['BFS cost'] for c in towers],\n",
    "            bins=bins,\n",
    "            color='purple',\n",
    "            label='BFS'\n",
    ")\n",
    "plt.hist([c['A* cost'] for c in towers],\n",
    "            bins=bins,\n",
    "            edgecolor='orange',\n",
    "            color='orange',\n",
    "            alpha=0.5,\n",
    "            label='A*'\n",
    ")\n",
    "\n",
    "# make scales logarithmic\n",
    "# plt.xscale('log')\n",
    "plt.xscale('log')\n",
    "plt.title('Cost of building towers')\n",
    "plt.xlabel('Cost in number of states evaluated')\n",
    "plt.ylabel('Number of towers')\n",
    "plt.legend()\n",
    "plt.show()"
   ]
  },
  {
   "cell_type": "code",
   "execution_count": null,
   "metadata": {},
   "outputs": [],
   "source": [
    "visualize_towers(towers,text_parameters=['A* percentile','A* cost','BFS cost','number of blocks'])"
   ]
  },
  {
   "cell_type": "markdown",
   "metadata": {},
   "source": [
    "Let's break the towers into separate groups"
   ]
  },
  {
   "cell_type": "markdown",
   "metadata": {},
   "source": [
    "### A*"
   ]
  },
  {
   "cell_type": "code",
   "execution_count": null,
   "metadata": {},
   "outputs": [],
   "source": [
    "# sort towers according to difficulty\n",
    "towers.sort(key=lambda x: x['A* cost'])"
   ]
  },
  {
   "cell_type": "code",
   "execution_count": null,
   "metadata": {},
   "outputs": [],
   "source": [
    "for group in ['easy','med','hard']:\n",
    "    print(group)\n",
    "    _towers = [t for t in towers if t['A* percentile'] == group]\n",
    "    visualize_towers(_towers,['A* percentile','A* cost', 'number of blocks'])"
   ]
  },
  {
   "cell_type": "markdown",
   "metadata": {},
   "source": [
    "### BFS"
   ]
  },
  {
   "cell_type": "code",
   "execution_count": null,
   "metadata": {},
   "outputs": [],
   "source": [
    "# sort towers according to difficulty\n",
    "towers.sort(key=lambda x: x['BFS cost'])"
   ]
  },
  {
   "cell_type": "code",
   "execution_count": null,
   "metadata": {},
   "outputs": [],
   "source": [
    "for group in ['easy','med','hard']:\n",
    "    print(group)\n",
    "    _towers = [t for t in towers if t['BFS percentile'] == group]\n",
    "    visualize_towers(_towers,['BFS percentile','BFS cost', 'number of blocks'])"
   ]
  },
  {
   "cell_type": "code",
   "execution_count": null,
   "metadata": {},
   "outputs": [],
   "source": [
    "# save towers into dataframe for seaborn (probably should do that anyways)\n",
    "towers_df = pd.DataFrame(towers)"
   ]
  },
  {
   "cell_type": "markdown",
   "metadata": {},
   "source": [
    "### Scatter plot between different costs"
   ]
  },
  {
   "cell_type": "code",
   "execution_count": null,
   "metadata": {},
   "outputs": [],
   "source": [
    "g = sns.scatterplot(data = towers_df,x='A* cost',y='BFS cost',\n",
    "hue='number of blocks',\n",
    ")\n",
    "g.set_xscale('log')\n",
    "g.set_yscale('log')\n",
    "g.set_title(\"Comparing A* and BFS cost for towers\")\n",
    "plt.gcf().set_size_inches(8,5)\n",
    "plt.show()"
   ]
  },
  {
   "cell_type": "code",
   "execution_count": null,
   "metadata": {},
   "outputs": [],
   "source": [
    "g = sns.stripplot(data = towers_df,x='number of blocks',y='BFS cost',\n",
    "hue='number of blocks',\n",
    ")\n",
    "g.set_yscale('log')\n",
    "g.set_title(\"Cost over number of blocks from tower generation\")\n",
    "plt.show()\n",
    "\n",
    "g = sns.stripplot(data=towers_df, x='number of blocks', y='A* cost',\n",
    "                  hue='number of blocks',\n",
    "                  )\n",
    "g.set_yscale('log')\n",
    "g.set_title(\"Cost over number of blocks from tower generation\")\n",
    "plt.show()\n"
   ]
  },
  {
   "cell_type": "code",
   "execution_count": null,
   "metadata": {},
   "outputs": [],
   "source": []
  }
 ],
 "metadata": {
  "interpreter": {
   "hash": "e8a0db0c320a248546b74be3a9327a6b1846905be2e5b5893711db7bb0ee00ed"
  },
  "kernelspec": {
   "display_name": "Python 3.9.7 64-bit ('scoping': conda)",
   "language": "python",
   "name": "python3"
  },
  "language_info": {
   "codemirror_mode": {
    "name": "ipython",
    "version": 3
   },
   "file_extension": ".py",
   "mimetype": "text/x-python",
   "name": "python",
   "nbconvert_exporter": "python",
   "pygments_lexer": "ipython3",
   "version": "3.9.7"
  },
  "orig_nbformat": 4
 },
 "nbformat": 4,
 "nbformat_minor": 2
}
