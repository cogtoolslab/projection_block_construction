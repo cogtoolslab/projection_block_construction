{
 "cells": [
  {
   "cell_type": "markdown",
   "metadata": {},
   "source": [
    "# Generate towers\n",
    "The purpose of this notebook is to generate a set of towers, evaluate them according to basic metrics and to save them to disk."
   ]
  },
  {
   "cell_type": "code",
   "execution_count": 1,
   "metadata": {},
   "outputs": [],
   "source": [
    "import tower_generator\n",
    "\n",
    "import tqdm\n",
    "\n",
    "import pickle\n",
    "\n",
    "import numpy as np\n",
    "import matplotlib.pyplot as plt\n",
    "\n",
    "from utils.blockworld_library import bl_silhouette2_default,bl_nonoverlapping_simple\n",
    "from utils.blockworld import *\n",
    "\n",
    "from model.BFS_Lookahead_Agent import BFS_Lookahead_Agent\n",
    "from model.BFS_Agent import BFS_Agent"
   ]
  },
  {
   "cell_type": "code",
   "execution_count": 2,
   "metadata": {},
   "outputs": [],
   "source": [
    "towers = []"
   ]
  },
  {
   "cell_type": "code",
   "execution_count": 3,
   "metadata": {},
   "outputs": [],
   "source": [
    "generator = tower_generator.TowerGenerator(8,8,\n",
    "                                        block_library=bl_nonoverlapping_simple,\n",
    "                                        seed=42,\n",
    "                                        )"
   ]
  },
  {
   "cell_type": "code",
   "execution_count": 4,
   "metadata": {},
   "outputs": [
    {
     "name": "stderr",
     "output_type": "stream",
     "text": [
      "100%|██████████| 100/100 [00:00<00:00, 134.29it/s]\n"
     ]
    }
   ],
   "source": [
    "for i in tqdm.tqdm(range(100)):\n",
    "    towers.append(generator.generate())"
   ]
  },
  {
   "cell_type": "code",
   "execution_count": 5,
   "metadata": {},
   "outputs": [],
   "source": [
    "def get_tower_cost(agent,tower):\n",
    "    cost = 0\n",
    "    world = Blockworld(silhouette=tower['bitmap'],\n",
    "                       block_library=tower['block_library'],\n",
    "                       physics=True,\n",
    "                       legal_action_space=True)\n",
    "    agent.set_world(world)\n",
    "    while world.status()[0] == 'Ongoing':\n",
    "        _,step_info = agent.act(1)\n",
    "        cost += step_info['states_evaluated']\n",
    "    return cost,world.status()\n",
    "    "
   ]
  },
  {
   "cell_type": "code",
   "execution_count": 6,
   "metadata": {},
   "outputs": [],
   "source": [
    "agent = BFS_Agent(random_seed=42)"
   ]
  },
  {
   "cell_type": "code",
   "execution_count": 7,
   "metadata": {},
   "outputs": [
    {
     "data": {
      "text/plain": [
       "(53653, ('Win', 'None'))"
      ]
     },
     "execution_count": 7,
     "metadata": {},
     "output_type": "execute_result"
    }
   ],
   "source": [
    "get_tower_cost(agent,towers[0])"
   ]
  },
  {
   "cell_type": "code",
   "execution_count": 9,
   "metadata": {},
   "outputs": [
    {
     "name": "stderr",
     "output_type": "stream",
     "text": [
      " 47%|████▋     | 47/100 [19:43<05:25,  6.14s/it]"
     ]
    }
   ],
   "source": [
    "for tower in tqdm.tqdm(towers):\n",
    "    cost,status = get_tower_cost(agent,tower)\n",
    "    tower['cost'] = cost\n",
    "    tower['success'] = status[0] == 'Win'"
   ]
  },
  {
   "cell_type": "code",
   "execution_count": null,
   "metadata": {},
   "outputs": [],
   "source": [
    "# pickle the towers\n",
    "pickle.dump(towers,open('generated_evaluated_towers.pkl','wb'))"
   ]
  }
 ],
 "metadata": {
  "interpreter": {
   "hash": "e8a0db0c320a248546b74be3a9327a6b1846905be2e5b5893711db7bb0ee00ed"
  },
  "kernelspec": {
   "display_name": "Python 3.9.7 64-bit ('scoping': conda)",
   "language": "python",
   "name": "python3"
  },
  "language_info": {
   "codemirror_mode": {
    "name": "ipython",
    "version": 3
   },
   "file_extension": ".py",
   "mimetype": "text/x-python",
   "name": "python",
   "nbconvert_exporter": "python",
   "pygments_lexer": "ipython3",
   "version": "3.9.7"
  },
  "orig_nbformat": 4
 },
 "nbformat": 4,
 "nbformat_minor": 2
}
