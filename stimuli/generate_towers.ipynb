{
 "cells": [
  {
   "cell_type": "markdown",
   "metadata": {},
   "source": [
    "# Generate towers\n",
    "The purpose of this notebook is to generate a set of towers, evaluate them according to basic metrics and to save them to disk."
   ]
  },
  {
   "cell_type": "code",
   "execution_count": null,
   "metadata": {},
   "outputs": [],
   "source": [
    "import tower_generator\n",
    "\n",
    "import tqdm\n",
    "\n",
    "import pickle\n",
    "\n",
    "import math\n",
    "\n",
    "import numpy as np\n",
    "import matplotlib.pyplot as plt\n",
    "\n",
    "from utils.blockworld_library import bl_silhouette2_default,bl_nonoverlapping_simple\n",
    "from utils.blockworld import *\n",
    "\n",
    "from model.BFS_Lookahead_Agent import BFS_Lookahead_Agent\n",
    "from model.BFS_Agent import BFS_Agent\n",
    "from model.Astar_Agent import Astar_Agent"
   ]
  },
  {
   "cell_type": "code",
   "execution_count": null,
   "metadata": {},
   "outputs": [],
   "source": [
    "generator = tower_generator.TowerGenerator(8,8,\n",
    "                                        block_library=bl_nonoverlapping_simple,\n",
    "                                        seed=42,\n",
    "                                        padding=(2,0)\n",
    "                                        )"
   ]
  },
  {
   "cell_type": "code",
   "execution_count": null,
   "metadata": {},
   "outputs": [],
   "source": [
    "NUM_TOWERS  = 100\n",
    "towers = []\n",
    "for i in tqdm.tqdm(range(NUM_TOWERS)):\n",
    "    towers.append(generator.generate())"
   ]
  },
  {
   "cell_type": "code",
   "execution_count": null,
   "metadata": {},
   "outputs": [],
   "source": [
    "# look at towers\n",
    "def visualize_towers(towers):\n",
    "    fig,axes = plt.subplots(math.ceil(len(towers)/5),5,figsize=(20,20*math.ceil(len(towers)/25)))\n",
    "    for axis, tower in zip(axes.flatten(),towers):\n",
    "        axis.imshow(tower['bitmap']*1.0)\n",
    "    plt.tight_layout()\n",
    "    plt.show()"
   ]
  },
  {
   "cell_type": "code",
   "execution_count": null,
   "metadata": {},
   "outputs": [],
   "source": [
    "visualize_towers(towers)"
   ]
  },
  {
   "cell_type": "code",
   "execution_count": null,
   "metadata": {},
   "outputs": [],
   "source": [
    "def get_tower_cost(agent,tower):\n",
    "    cost = 0\n",
    "    world = Blockworld(silhouette=tower['bitmap'],\n",
    "                       block_library=tower['block_library'],\n",
    "                       physics=True,\n",
    "                       legal_action_space=True)\n",
    "    agent.set_world(world)\n",
    "    while world.status()[0] == 'Ongoing':\n",
    "        _,step_info = agent.act()\n",
    "        cost += step_info['states_evaluated']\n",
    "    return cost,world.status()\n",
    "    "
   ]
  },
  {
   "cell_type": "code",
   "execution_count": null,
   "metadata": {},
   "outputs": [],
   "source": [
    "agent = BFS_Agent(random_seed=42)"
   ]
  },
  {
   "cell_type": "code",
   "execution_count": null,
   "metadata": {},
   "outputs": [],
   "source": [
    "agent = Astar_Agent(random_seed=42)"
   ]
  },
  {
   "cell_type": "code",
   "execution_count": null,
   "metadata": {},
   "outputs": [],
   "source": [
    "get_tower_cost(agent,towers[0])"
   ]
  },
  {
   "cell_type": "code",
   "execution_count": null,
   "metadata": {},
   "outputs": [],
   "source": [
    "def block_to_dict(block):\n",
    "    return {\"x\": block.x, \"y\": block.y, \"width\": block.width, \"height\": block.height}\n"
   ]
  },
  {
   "cell_type": "code",
   "execution_count": null,
   "metadata": {},
   "outputs": [],
   "source": [
    "for tower in tqdm.tqdm(towers):\n",
    "    cost,status = get_tower_cost(agent,tower)\n",
    "    tower['cost'] = cost\n",
    "    tower['success'] = status[0] == 'Win'"
   ]
  },
  {
   "cell_type": "code",
   "execution_count": null,
   "metadata": {},
   "outputs": [],
   "source": [
    "# pickle the towers\n",
    "pickle.dump(towers,open('generated_evaluated_towers.pkl','wb'))"
   ]
  },
  {
   "cell_type": "code",
   "execution_count": null,
   "metadata": {},
   "outputs": [],
   "source": [
    "costs = [c['cost'] for c in towers]"
   ]
  },
  {
   "cell_type": "code",
   "execution_count": null,
   "metadata": {},
   "outputs": [],
   "source": [
    "plt.hist(costs,\n",
    "            bins=3000,\n",
    ")\n",
    "plt.xlim(0,100000)\n",
    "plt.show()"
   ]
  }
 ],
 "metadata": {
  "interpreter": {
   "hash": "e8a0db0c320a248546b74be3a9327a6b1846905be2e5b5893711db7bb0ee00ed"
  },
  "kernelspec": {
   "display_name": "Python 3.9.7 64-bit ('scoping': conda)",
   "language": "python",
   "name": "python3"
  },
  "language_info": {
   "codemirror_mode": {
    "name": "ipython",
    "version": 3
   },
   "file_extension": ".py",
   "mimetype": "text/x-python",
   "name": "python",
   "nbconvert_exporter": "python",
   "pygments_lexer": "ipython3",
   "version": "3.9.7"
  },
  "orig_nbformat": 4
 },
 "nbformat": 4,
 "nbformat_minor": 2
}
