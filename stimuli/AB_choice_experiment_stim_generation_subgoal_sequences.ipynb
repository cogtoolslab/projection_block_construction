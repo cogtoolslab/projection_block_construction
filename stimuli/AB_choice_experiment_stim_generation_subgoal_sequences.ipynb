{
 "cells": [
  {
   "cell_type": "markdown",
   "metadata": {},
   "source": [
    "# Generating stimuli for A/B choice experiment, given_subgoal experiment with subgoal sequences"
   ]
  },
  {
   "cell_type": "markdown",
   "metadata": {},
   "source": [
    "===NOTE: in the current versions of the experiments, we use states and single subgoals instead of subgoal sequences. This is **deprecated**.===\n",
    "\n",
    "Purpose of this notebook is:\n",
    "* to create a set of towers\n",
    "* for each tower, create a tree of branching subgoal choices, which each subgoal on each turn being either the cheapest or the most expensive one meeting a certain condition.\n",
    "    * ensuring that each node has a path to the goal (can we do that?)\n",
    "* visualize the different choices\n",
    "* save that out to a pickled dataframe for the upload notebook in the `_human_expperiment` repo\n",
    "\n",
    "Requires:\n",
    "*\n",
    "\n",
    "See also:\n",
    "* "
   ]
  },
  {
   "cell_type": "markdown",
   "metadata": {},
   "source": [
    "## Setup"
   ]
  },
  {
   "cell_type": "code",
   "execution_count": null,
   "metadata": {},
   "outputs": [],
   "source": [
    "# set up imports\n",
    "import os\n",
    "import sys\n",
    "\n",
    "from scoping_simulations.utils.directories import PROJ_DIR, DF_DIR, STIM_DIR"
   ]
  },
  {
   "cell_type": "code",
   "execution_count": null,
   "metadata": {},
   "outputs": [],
   "source": [
    "import tower_generator\n",
    "\n",
    "from tqdm import tqdm\n",
    "import p_tqdm\n",
    "\n",
    "import pickle\n",
    "\n",
    "import math\n",
    "\n",
    "import numpy as np\n",
    "import matplotlib.pyplot as plt\n",
    "import seaborn as sns\n",
    "import pandas as pd\n",
    "\n",
    "import scipy.stats as stats\n",
    "from scipy.stats import sem as sem\n",
    "\n",
    "from scoping_simulations.utils.blockworld_library import *\n",
    "from scoping_simulations.utils.blockworld import *\n",
    "\n",
    "from scoping_simulations.model.BFS_Lookahead_Agent import BFS_Lookahead_Agent\n",
    "from scoping_simulations.model.BFS_Agent import BFS_Agent\n",
    "from scoping_simulations.model.Astar_Agent import Astar_Agent\n",
    "from scoping_simulations.model.Best_First_Search_Agent import Best_First_Search_Agent\n",
    "from scoping_simulations.model.Subgoal_Planning_Agent import Subgoal_Planning_Agent\n",
    "\n",
    "from scoping_simulations.model.utils.decomposition_functions import *\n",
    "import scoping_simulations.utils.blockworld_library as bl"
   ]
  },
  {
   "cell_type": "code",
   "execution_count": null,
   "metadata": {},
   "outputs": [],
   "source": [
    "# show all columns in dataframe\n",
    "pd.set_option(\"display.max_columns\", None)"
   ]
  },
  {
   "cell_type": "markdown",
   "metadata": {},
   "source": [
    "## Generating towers\n"
   ]
  },
  {
   "cell_type": "code",
   "execution_count": null,
   "metadata": {},
   "outputs": [],
   "source": [
    "block_library = bl_nonoverlapping_simple"
   ]
  },
  {
   "cell_type": "code",
   "execution_count": null,
   "metadata": {},
   "outputs": [],
   "source": [
    "generator = tower_generator.TowerGenerator(\n",
    "    8,\n",
    "    8,\n",
    "    block_library=block_library,\n",
    "    seed=42,\n",
    "    padding=(2, 0),\n",
    "    num_blocks=lambda: random.randint(\n",
    "        4, 10\n",
    "    ),  #  flat random interval of tower sizes (inclusive)\n",
    ")"
   ]
  },
  {
   "cell_type": "code",
   "execution_count": null,
   "metadata": {},
   "outputs": [],
   "source": [
    "NUM_TOWERS = 12\n",
    "towers = []\n",
    "for i in tqdm(range(NUM_TOWERS)):\n",
    "    towers.append(generator.generate())"
   ]
  },
  {
   "cell_type": "code",
   "execution_count": null,
   "metadata": {},
   "outputs": [],
   "source": [
    "worlds = [\n",
    "    Blockworld(silhouette=t[\"bitmap\"], block_library=bl.bl_nonoverlapping_simple)\n",
    "    for t in towers\n",
    "]"
   ]
  },
  {
   "cell_type": "markdown",
   "metadata": {},
   "source": [
    "### Visualize the generated towers"
   ]
  },
  {
   "cell_type": "code",
   "execution_count": null,
   "metadata": {},
   "outputs": [],
   "source": [
    "# look at towers\n",
    "def visualize_towers(towers, text_parameters=None):\n",
    "    fig, axes = plt.subplots(\n",
    "        math.ceil(len(towers) / 5), 5, figsize=(20, 15 * math.ceil(len(towers) / 20))\n",
    "    )\n",
    "    for axis, tower in zip(axes.flatten(), towers):\n",
    "        axis.imshow(tower[\"bitmap\"] * 1.0)\n",
    "        if text_parameters is not None:\n",
    "            if type(text_parameters) is not list:\n",
    "                text_parameters = [text_parameters]\n",
    "            for y_offset, text_parameter in enumerate(text_parameters):\n",
    "                axis.text(\n",
    "                    0,\n",
    "                    y_offset * 1.0,\n",
    "                    str(text_parameter + \": \" + str(tower[text_parameter])),\n",
    "                    color=\"gray\",\n",
    "                    fontsize=20,\n",
    "                )\n",
    "    plt.tight_layout()\n",
    "    plt.show()"
   ]
  },
  {
   "cell_type": "code",
   "execution_count": null,
   "metadata": {},
   "outputs": [],
   "source": [
    "visualize_towers(towers)"
   ]
  },
  {
   "cell_type": "markdown",
   "metadata": {},
   "source": [
    "## Score towers for basic difficulty\n",
    "For each tower, compute the cost of solving it using a planning agent."
   ]
  },
  {
   "cell_type": "markdown",
   "metadata": {},
   "source": [
    "Here, we use Best First Search without lookahead or subgoals."
   ]
  },
  {
   "cell_type": "code",
   "execution_count": null,
   "metadata": {},
   "outputs": [],
   "source": [
    "lower_agent = Best_First_Search_Agent(random_seed=42)"
   ]
  },
  {
   "cell_type": "code",
   "execution_count": null,
   "metadata": {},
   "outputs": [],
   "source": [
    "def get_tower_cost(agent, world):\n",
    "    cost = 0\n",
    "    agent.set_world(world)\n",
    "    world.reset()\n",
    "    while world.status()[0] == \"Ongoing\":\n",
    "        _, step_info = agent.act()\n",
    "        cost += step_info[\"states_evaluated\"]\n",
    "    return cost, world.status()"
   ]
  },
  {
   "cell_type": "code",
   "execution_count": null,
   "metadata": {},
   "outputs": [],
   "source": [
    "costs = []\n",
    "statusses = []\n",
    "for world in tqdm(worlds):\n",
    "    cost, status = get_tower_cost(lower_agent, world)\n",
    "    costs.append(cost)\n",
    "    statusses.append(status)"
   ]
  },
  {
   "cell_type": "markdown",
   "metadata": {},
   "source": [
    "Split the basic costs into three percentiles: easy, medium, hard."
   ]
  },
  {
   "cell_type": "code",
   "execution_count": null,
   "metadata": {},
   "outputs": [],
   "source": [
    "difficulty_percentiles = [np.percentile(costs, i) for i in [33, 66, 99]]\n",
    "\n",
    "percentiles = [None] * len(costs)\n",
    "for i, cost in enumerate(costs):\n",
    "    if cost < difficulty_percentiles[0]:\n",
    "        percentiles[i] = \"easy\"\n",
    "    elif cost < difficulty_percentiles[1]:\n",
    "        percentiles[i] = \"medium\"\n",
    "    else:\n",
    "        percentiles[i] = \"hard\""
   ]
  },
  {
   "cell_type": "markdown",
   "metadata": {},
   "source": [
    "## Find best and worst sequence of subgoals for each tower\n",
    "We compute the full subgoal tree for each tower and extract the best and worst sequence.\n",
    "\n",
    "Note: for the planned studies, we will use individual states and subgoals, not sequences of subgoals."
   ]
  },
  {
   "cell_type": "code",
   "execution_count": null,
   "metadata": {},
   "outputs": [],
   "source": [
    "decomposer = Rectangular_Keyholes(\n",
    "    sequence_length=3,\n",
    "    necessary_conditions=[\n",
    "        Area_larger_than(area=1),\n",
    "        Area_smaller_than(area=21),\n",
    "        No_edge_rows_or_columns(),\n",
    "    ],\n",
    "    necessary_sequence_conditions=[\n",
    "        Complete(),\n",
    "        No_overlap(),\n",
    "        Supported(),\n",
    "    ],\n",
    ")\n",
    "\n",
    "sg_agent = Subgoal_Planning_Agent(\n",
    "    lower_agent=lower_agent, random_seed=42, decomposer=decomposer\n",
    ")"
   ]
  },
  {
   "cell_type": "markdown",
   "metadata": {},
   "source": [
    "Calculate the subgoal tree for each tower.\n",
    "\n",
    "Sadly, the sockets seem to make this hard to parallelize."
   ]
  },
  {
   "cell_type": "code",
   "execution_count": null,
   "metadata": {},
   "outputs": [],
   "source": [
    "# # parallelized—does not presently work (somehow the sockets in p_tqdm just don't work)\n",
    "# def get_subgoal_tree_from_tower(agent, world):\n",
    "#     agent.set_world(world)\n",
    "#     return agent.get_subgoal_tree()\n",
    "\n",
    "# agents = [copy.deepcopy(a) for a in [sg_agent]*len(worlds)]\n",
    "\n",
    "# trees = p_tqdm.p_map(get_subgoal_tree_from_tower, agents, worlds)"
   ]
  },
  {
   "cell_type": "code",
   "execution_count": null,
   "metadata": {},
   "outputs": [],
   "source": [
    "# sequential version\n",
    "trees = []\n",
    "for world in tqdm(worlds):\n",
    "    world.reset()\n",
    "    sg_agent.set_world(world)\n",
    "    trees.append(sg_agent.get_subgoal_tree())"
   ]
  },
  {
   "cell_type": "markdown",
   "metadata": {},
   "source": [
    "Visualize the best and worst sequence of subgoals for each tower."
   ]
  },
  {
   "cell_type": "code",
   "execution_count": null,
   "metadata": {},
   "outputs": [],
   "source": [
    "# for i, tree in enumerate(trees):\n",
    "#     print(\"Tower {}\".format(i))\n",
    "#     plt.imshow(tree.world.silhouette)\n",
    "#     plt.title(\"Tower {}\".format(i))\n",
    "#     plt.show()\n",
    "#     best_seq = tree.get_best_sequence()\n",
    "#     try:\n",
    "#         print(\"Best sequence with cost\",best_seq.solution_cost(),\"for tower\",i)\n",
    "#         best_seq.visual_display()\n",
    "#     except:\n",
    "#         print(\"No Best sequence for tower\",i)\n",
    "#     worst_seq = tree.get_worst_sequence()\n",
    "#     try:\n",
    "#         print(\"Worst sequence with cost\",worst_seq.solution_cost(),\"for tower\",i)\n",
    "#         worst_seq.visual_display()\n",
    "#     except:\n",
    "#         print(\"No Worst sequence for tower\",i)"
   ]
  },
  {
   "cell_type": "markdown",
   "metadata": {},
   "source": [
    "Let's save out everything"
   ]
  },
  {
   "cell_type": "code",
   "execution_count": null,
   "metadata": {},
   "outputs": [],
   "source": [
    "results = [\n",
    "    {\"world\": world, \"subgoal tree\": tree, \"cost\": cost, \"percentile\": percentile}\n",
    "    for world, tree, cost, percentile in zip(worlds, trees, costs, percentiles)\n",
    "]"
   ]
  },
  {
   "cell_type": "code",
   "execution_count": null,
   "metadata": {},
   "outputs": [],
   "source": [
    "pickle.dump(results, open(\"AB_choice subgoal results.pkl\", \"wb\"))"
   ]
  },
  {
   "cell_type": "markdown",
   "metadata": {},
   "source": [
    "also add it to a pandas dataframe"
   ]
  },
  {
   "cell_type": "code",
   "execution_count": null,
   "metadata": {},
   "outputs": [],
   "source": [
    "df = pd.DataFrame(results)"
   ]
  },
  {
   "cell_type": "markdown",
   "metadata": {},
   "source": [
    "### Selecting towers for human experiment\n",
    "The plan: select n towers with the most divergent best/worst sequence cost for each of the difficulty groups."
   ]
  },
  {
   "cell_type": "markdown",
   "metadata": {},
   "source": [
    "Add delta in best and worst subgoal sequence to trees"
   ]
  },
  {
   "cell_type": "code",
   "execution_count": null,
   "metadata": {},
   "outputs": [],
   "source": [
    "df[\"best_sequence\"] = df[\"subgoal tree\"].apply(lambda x: x.get_best_sequence())\n",
    "df[\"worst_sequence\"] = df[\"subgoal tree\"].apply(lambda x: x.get_worst_sequence())"
   ]
  },
  {
   "cell_type": "code",
   "execution_count": null,
   "metadata": {},
   "outputs": [],
   "source": [
    "df[\"best_sequence_cost\"] = df[\"best_sequence\"].apply(lambda x: x.solution_cost())\n",
    "df[\"worst_sequence_cost\"] = df[\"worst_sequence\"].apply(lambda x: x.solution_cost())"
   ]
  },
  {
   "cell_type": "code",
   "execution_count": null,
   "metadata": {},
   "outputs": [],
   "source": [
    "df[\"best_worst_delta\"] = df[\"worst_sequence_cost\"] - df[\"best_sequence_cost\"]"
   ]
  },
  {
   "cell_type": "markdown",
   "metadata": {},
   "source": [
    "We pull out the n most divergent trees for all three categories."
   ]
  },
  {
   "cell_type": "code",
   "execution_count": null,
   "metadata": {},
   "outputs": [],
   "source": [
    "trees_per_condition = 6"
   ]
  },
  {
   "cell_type": "code",
   "execution_count": null,
   "metadata": {},
   "outputs": [],
   "source": [
    "most_divergent_towers_df = (\n",
    "    df.sort_values([\"percentile\", \"best_worst_delta\"], ascending=[1, 0])\n",
    "    .groupby(\"percentile\")\n",
    "    .head(trees_per_condition)\n",
    ")\n",
    "most_divergent_towers_df"
   ]
  },
  {
   "cell_type": "code",
   "execution_count": null,
   "metadata": {},
   "outputs": [],
   "source": [
    "for i, row in most_divergent_towers_df.iterrows():\n",
    "    print(\"Tower percentile {}\".format(row[\"percentile\"]))\n",
    "    plt.imshow(row[\"subgoal tree\"].world.silhouette)\n",
    "    plt.show()\n",
    "    best_seq = row[\"subgoal tree\"].get_best_sequence()\n",
    "    try:\n",
    "        print(\"Best sequence with cost\", row[\"best_sequence_cost\"])\n",
    "        best_seq.visual_display()\n",
    "    except:\n",
    "        print(\"No Best sequence for tower\", i)\n",
    "    worst_seq = row[\"subgoal tree\"].get_worst_sequence()\n",
    "    try:\n",
    "        print(\"Worst sequence with cost\", row[\"worst_sequence_cost\"])\n",
    "        worst_seq.visual_display()\n",
    "    except:\n",
    "        print(\"No Worst sequence for tower\", i)"
   ]
  },
  {
   "cell_type": "markdown",
   "metadata": {},
   "source": [
    "Let's save the dataframe to disk. This will serve as the basis for the `given_subgoal` human experiment."
   ]
  },
  {
   "cell_type": "code",
   "execution_count": null,
   "metadata": {},
   "outputs": [],
   "source": [
    "most_divergent_towers_df.to_pickle(\"AB_choice subgoal most divergent towers.pkl\")"
   ]
  }
 ],
 "metadata": {
  "interpreter": {
   "hash": "e8a0db0c320a248546b74be3a9327a6b1846905be2e5b5893711db7bb0ee00ed"
  },
  "kernelspec": {
   "display_name": "Python 3.9.7 ('scoping')",
   "language": "python",
   "name": "python3"
  },
  "language_info": {
   "codemirror_mode": {
    "name": "ipython",
    "version": 3
   },
   "file_extension": ".py",
   "mimetype": "text/x-python",
   "name": "python",
   "nbconvert_exporter": "python",
   "pygments_lexer": "ipython3",
   "version": "3.9.7"
  },
  "orig_nbformat": 4
 },
 "nbformat": 4,
 "nbformat_minor": 2
}
