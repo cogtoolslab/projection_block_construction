{
 "cells": [
  {
   "cell_type": "markdown",
   "metadata": {},
   "source": [
    "# Generating stimuli for A/B choice experiment, given_subgoal experiment"
   ]
  },
  {
   "cell_type": "markdown",
   "metadata": {},
   "source": [
    "Purpose of this notebook is:\n",
    "* to create a set of towers\n",
    "* for each tower, create a tree of branching subgoal choices, which each subgoal on each turn being either the cheapest or the most expensive one meeting a certain condition.\n",
    "    * ensuring that each node has a path to the goal (can we do that?)\n",
    "* visualize the different choices\n",
    "* create a list of **subgoals** with an associated world state, not necessarily the best and worst sequence.\n",
    "* save that out to a pickled dataframe for the upload notebook in the `_human_expperiment` repo\n",
    "\n",
    "Requires:\n",
    "*\n",
    "\n",
    "See also:\n",
    "* "
   ]
  },
  {
   "cell_type": "markdown",
   "metadata": {},
   "source": [
    "## Setup"
   ]
  },
  {
   "cell_type": "code",
   "execution_count": 31,
   "metadata": {},
   "outputs": [],
   "source": [
    "# set up imports\n",
    "import os\n",
    "import sys\n",
    "\n",
    "__file__ = os.getcwd()\n",
    "proj_dir = os.path.dirname(os.path.realpath(__file__))\n",
    "sys.path.append(proj_dir)\n",
    "utils_dir = os.path.join(proj_dir, \"utils\")\n",
    "sys.path.append(utils_dir)\n",
    "analysis_dir = os.path.join(proj_dir, \"analysis\")\n",
    "analysis_utils_dir = os.path.join(analysis_dir, \"utils\")\n",
    "sys.path.append(analysis_utils_dir)\n",
    "agent_dir = os.path.join(proj_dir, \"model\")\n",
    "sys.path.append(agent_dir)\n",
    "agent_util_dir = os.path.join(agent_dir, \"utils\")\n",
    "sys.path.append(agent_util_dir)\n",
    "experiments_dir = os.path.join(proj_dir, \"experiments\")\n",
    "sys.path.append(experiments_dir)\n",
    "df_dir = os.path.join(proj_dir, \"results/dataframes\")\n",
    "stim_dir = os.path.join(proj_dir, \"stimuli\")"
   ]
  },
  {
   "cell_type": "code",
   "execution_count": 32,
   "metadata": {},
   "outputs": [],
   "source": [
    "import tower_generator\n",
    "\n",
    "from tqdm import tqdm\n",
    "import p_tqdm\n",
    "\n",
    "import datetime\n",
    "\n",
    "import pickle\n",
    "\n",
    "import math\n",
    "\n",
    "import numpy as np\n",
    "import matplotlib.pyplot as plt\n",
    "import seaborn as sns\n",
    "import pandas as pd\n",
    "\n",
    "import scipy.stats as stats\n",
    "from scipy.stats import sem as sem\n",
    "\n",
    "from scoping_simulations.utils.blockworld_library import *\n",
    "from scoping_simulations.utils.blockworld import *\n",
    "\n",
    "from scoping_simulations.model.BFS_Lookahead_Agent import BFS_Lookahead_Agent\n",
    "from scoping_simulations.model.BFS_Agent import BFS_Agent\n",
    "from scoping_simulations.model.Astar_Agent import Astar_Agent\n",
    "from scoping_simulations.model.Best_First_Search_Agent import Best_First_Search_Agent\n",
    "from scoping_simulations.model.Subgoal_Planning_Agent import Subgoal_Planning_Agent\n",
    "\n",
    "from scoping_simulations.model.utils.decomposition_functions import *\n",
    "import scoping_simulations.utils.blockworld_library as bl"
   ]
  },
  {
   "cell_type": "code",
   "execution_count": 33,
   "metadata": {},
   "outputs": [],
   "source": [
    "# used for naming the output file\n",
    "date = datetime.datetime.now().strftime(\"%Y-%m-%d_%H-%M-%S\")"
   ]
  },
  {
   "cell_type": "markdown",
   "metadata": {},
   "source": [
    "Usually we would fix the random seeds here, but the agents are being run with fixed random seeds, so this is not necessary here."
   ]
  },
  {
   "cell_type": "code",
   "execution_count": 34,
   "metadata": {},
   "outputs": [],
   "source": [
    "# show all columns in dataframe\n",
    "pd.set_option(\"display.max_columns\", None)"
   ]
  },
  {
   "cell_type": "markdown",
   "metadata": {},
   "source": [
    "## Generating towers\n"
   ]
  },
  {
   "cell_type": "code",
   "execution_count": 35,
   "metadata": {},
   "outputs": [],
   "source": [
    "block_library = bl_nonoverlapping_simple"
   ]
  },
  {
   "cell_type": "code",
   "execution_count": 36,
   "metadata": {},
   "outputs": [],
   "source": [
    "generator = tower_generator.TowerGenerator(\n",
    "    8,\n",
    "    8,\n",
    "    block_library=block_library,\n",
    "    seed=3,\n",
    "    padding=(1, 0),\n",
    "    num_blocks=lambda: random.randint(\n",
    "        6, 18\n",
    "    ),  #  flat random interval of tower sizes (inclusive)\n",
    ")"
   ]
  },
  {
   "cell_type": "code",
   "execution_count": 37,
   "metadata": {},
   "outputs": [
    {
     "name": "stderr",
     "output_type": "stream",
     "text": [
      "100%|██████████| 8/8 [00:01<00:00,  6.55it/s]\n"
     ]
    }
   ],
   "source": [
    "NUM_TOWERS = 128\n",
    "towers = []\n",
    "for i in tqdm(range(NUM_TOWERS)):\n",
    "    tower = generator.generate()\n",
    "    towers.append(tower)"
   ]
  },
  {
   "cell_type": "code",
   "execution_count": 38,
   "metadata": {},
   "outputs": [],
   "source": [
    "worlds = [\n",
    "    Blockworld(silhouette=t[\"bitmap\"], block_library=bl.bl_nonoverlapping_simple)\n",
    "    for t in towers\n",
    "]\n",
    "worlds_sizes = [len(t[\"blocks\"]) for t in towers]"
   ]
  },
  {
   "cell_type": "markdown",
   "metadata": {},
   "source": [
    "Generate percentiles for the size of towers to select over in the experiment creation notebook"
   ]
  },
  {
   "cell_type": "code",
   "execution_count": 39,
   "metadata": {},
   "outputs": [],
   "source": [
    "towersize_percentiles = [np.percentile(worlds_sizes, i) for i in [33, 66, 99]]\n",
    "\n",
    "size_percentiles = [None] * len(worlds_sizes)\n",
    "for i, cost in enumerate(worlds_sizes):\n",
    "    if cost < towersize_percentiles[0]:\n",
    "        size_percentiles[i] = \"small\"\n",
    "    elif cost < towersize_percentiles[1]:\n",
    "        size_percentiles[i] = \"medium\"\n",
    "    else:\n",
    "        size_percentiles[i] = \"large\""
   ]
  },
  {
   "cell_type": "code",
   "execution_count": 40,
   "metadata": {},
   "outputs": [],
   "source": [
    "# look at towers\n",
    "def visualize_towers(towers, text_parameters=None):\n",
    "    fig, axes = plt.subplots(\n",
    "        math.ceil(len(towers) / 5), 5, figsize=(20, 15 * math.ceil(len(towers) / 20))\n",
    "    )\n",
    "    for axis, tower in zip(axes.flatten(), towers):\n",
    "        axis.imshow(tower[\"bitmap\"] * 1.0)\n",
    "        if text_parameters is not None:\n",
    "            if type(text_parameters) is not list:\n",
    "                text_parameters = [text_parameters]\n",
    "            for y_offset, text_parameter in enumerate(text_parameters):\n",
    "                axis.text(\n",
    "                    0,\n",
    "                    y_offset * 1.0,\n",
    "                    str(text_parameter + \": \" + str(tower[text_parameter])),\n",
    "                    color=\"gray\",\n",
    "                    fontsize=20,\n",
    "                )\n",
    "    plt.tight_layout()\n",
    "    plt.show()"
   ]
  },
  {
   "cell_type": "code",
   "execution_count": 41,
   "metadata": {},
   "outputs": [
    {
     "data": {
      "image/png": "[encoded data removed]",
      "text/plain": [
       "<Figure size 1440x1080 with 10 Axes>"
      ]
     },
     "metadata": {
      "needs_background": "light"
     },
     "output_type": "display_data"
    }
   ],
   "source": [
    "visualize_towers(towers)"
   ]
  },
  {
   "cell_type": "markdown",
   "metadata": {},
   "source": [
    "## Score towers for basic difficulty\n",
    "For each tower, compute the cost of solving it using a planning agent."
   ]
  },
  {
   "cell_type": "markdown",
   "metadata": {},
   "source": [
    "Here, we use Best First Search without lookahead or subgoals."
   ]
  },
  {
   "cell_type": "code",
   "execution_count": 42,
   "metadata": {},
   "outputs": [],
   "source": [
    "lower_agent = Best_First_Search_Agent(random_seed=42)"
   ]
  },
  {
   "cell_type": "code",
   "execution_count": 43,
   "metadata": {},
   "outputs": [],
   "source": [
    "def get_tower_cost(agent, world):\n",
    "    cost = 0\n",
    "    agent.set_world(world)\n",
    "    world.reset()\n",
    "    while world.status()[0] == \"Ongoing\":\n",
    "        _, step_info = agent.act()\n",
    "        cost += step_info[\"states_evaluated\"]\n",
    "    return cost, world.status()"
   ]
  },
  {
   "cell_type": "code",
   "execution_count": 44,
   "metadata": {},
   "outputs": [
    {
     "name": "stderr",
     "output_type": "stream",
     "text": [
      "100%|██████████| 8/8 [00:02<00:00,  3.82it/s]\n"
     ]
    }
   ],
   "source": [
    "# parallelized\n",
    "agents = [copy.deepcopy(a) for a in [lower_agent] * len(worlds)]\n",
    "\n",
    "# remove process connection before handoff to the threads\n",
    "for world in worlds:\n",
    "    world.physics_provider.kill_server(force=True)\n",
    "\n",
    "results = p_tqdm.p_map(get_tower_cost, agents, worlds)\n",
    "costs = [c[0] for c in results]\n",
    "statusses = [c[1] for c in results]"
   ]
  },
  {
   "cell_type": "markdown",
   "metadata": {},
   "source": [
    "Split the basic costs into three percentiles: easy, medium, hard."
   ]
  },
  {
   "cell_type": "code",
   "execution_count": 45,
   "metadata": {},
   "outputs": [],
   "source": [
    "difficulty_percentiles = [np.percentile(costs, i) for i in [33, 66, 99]]\n",
    "\n",
    "percentiles = [None] * len(costs)\n",
    "for i, cost in enumerate(costs):\n",
    "    if cost < difficulty_percentiles[0]:\n",
    "        percentiles[i] = \"easy\"\n",
    "    elif cost < difficulty_percentiles[1]:\n",
    "        percentiles[i] = \"medium\"\n",
    "    else:\n",
    "        percentiles[i] = \"hard\""
   ]
  },
  {
   "cell_type": "markdown",
   "metadata": {},
   "source": [
    "## Find best and worst subgoals\n",
    "We compute the full subgoal tree for each tower and extract the best and worst sequence.\n",
    "\n",
    "Note: for the planned studies, we will use individual states and subgoals, not sequences of subgoals."
   ]
  },
  {
   "cell_type": "code",
   "execution_count": 46,
   "metadata": {},
   "outputs": [],
   "source": [
    "decomposer = Rectangular_Keyholes(\n",
    "    sequence_length=3,\n",
    "    necessary_conditions=[\n",
    "        Area_larger_than(area=1),\n",
    "        # Area_smaller_than(area=30), # used to be 21\n",
    "        Mass_smaller_than(area=16),\n",
    "        No_edge_rows_or_columns(),\n",
    "    ],\n",
    "    necessary_sequence_conditions=[\n",
    "        Complete(),\n",
    "        No_overlap(),\n",
    "        Supported(),\n",
    "    ],\n",
    ")\n",
    "\n",
    "sg_agent = Subgoal_Planning_Agent(\n",
    "    lower_agent=lower_agent, random_seed=42, decomposer=decomposer\n",
    ")"
   ]
  },
  {
   "cell_type": "markdown",
   "metadata": {},
   "source": [
    "Calculate the subgoal tree for each tower."
   ]
  },
  {
   "cell_type": "code",
   "execution_count": 47,
   "metadata": {},
   "outputs": [
    {
     "name": "stderr",
     "output_type": "stream",
     "text": [
      "100%|██████████| 8/8 [00:55<00:00,  6.90s/it]\n"
     ]
    }
   ],
   "source": [
    "# # parallelized\n",
    "def get_subgoal_tree_from_tower(agent, world):\n",
    "    world.reset()\n",
    "    agent.set_world(world)\n",
    "    return agent.get_subgoal_tree(only_solved_sequences=True)\n",
    "\n",
    "\n",
    "agents = [copy.deepcopy(a) for a in [sg_agent] * len(worlds)]\n",
    "\n",
    "# remove process connection before handoff to the threads\n",
    "for world in worlds:\n",
    "    world.physics_provider.kill_server(force=True)\n",
    "\n",
    "trees = p_tqdm.p_map(get_subgoal_tree_from_tower, agents, worlds)"
   ]
  },
  {
   "cell_type": "markdown",
   "metadata": {},
   "source": [
    "### Select most divergent subgoals\n",
    "For each tower, select n state/subgoal combinations that are maximally divergent."
   ]
  },
  {
   "cell_type": "code",
   "execution_count": 48,
   "metadata": {},
   "outputs": [],
   "source": [
    "NUM_SGs_PER_TOWER = 4  # how many subgoals do we want to choose?"
   ]
  },
  {
   "cell_type": "code",
   "execution_count": 49,
   "metadata": {},
   "outputs": [],
   "source": [
    "best_worst_subgoals = []\n",
    "for tree in trees:\n",
    "    best_worst_subgoals.append(\n",
    "        tree.get_most_divergent_matching_pairs_of_subgoals(NUM_SGs_PER_TOWER)\n",
    "    )"
   ]
  },
  {
   "cell_type": "code",
   "execution_count": 76,
   "metadata": {},
   "outputs": [
    {
     "name": "stdout",
     "output_type": "stream",
     "text": [
      "Got 18 subgoal pairs for 8 towers\n"
     ]
    }
   ],
   "source": [
    "print(\n",
    "    \"Got {} subgoal pairs for {} towers\".format(\n",
    "        sum([len(x) for x in best_worst_subgoals]), len(towers)\n",
    "    )\n",
    ")"
   ]
  },
  {
   "cell_type": "code",
   "execution_count": 53,
   "metadata": {},
   "outputs": [],
   "source": [
    "# this is on the level of towers, not subgoal pairs\n",
    "results = [\n",
    "    {\n",
    "        \"world\": world,\n",
    "        \"world name\": index,\n",
    "        \"subgoal tree\": tree,\n",
    "        \"cost\": cost,\n",
    "        \"percentile\": percentile,\n",
    "        \"best_worst_subgoals\": best_worst_subgoal,\n",
    "        \"world_size\": world_size,\n",
    "        \"world_size_percentile\": world_size_percentile,\n",
    "    }\n",
    "    for world, index, tree, cost, percentile, best_worst_subgoal, world_size, world_size_percentile in zip(\n",
    "        worlds,\n",
    "        range(len(towers)),\n",
    "        trees,\n",
    "        costs,\n",
    "        percentiles,\n",
    "        best_worst_subgoals,\n",
    "        worlds_sizes,\n",
    "        size_percentiles,\n",
    "    )\n",
    "]"
   ]
  },
  {
   "cell_type": "markdown",
   "metadata": {},
   "source": [
    "Add into df"
   ]
  },
  {
   "cell_type": "code",
   "execution_count": 77,
   "metadata": {},
   "outputs": [],
   "source": [
    "df = pd.DataFrame(\n",
    "    columns=[\n",
    "        \"world name\",\n",
    "        \"world\",\n",
    "        \"best subgoal\",\n",
    "        \"worst subgoal\",\n",
    "        \"subgoal cost delta\",\n",
    "        \"subgoal cost ratio\",\n",
    "        \"tower percentile\",\n",
    "        \"state\",\n",
    "        \"blocks\",\n",
    "        \"world size\",\n",
    "        \"world size percentile\",\n",
    "    ]\n",
    ")\n",
    "i = 0\n",
    "\n",
    "# this is on the level of subgoal pairs\n",
    "for r in results:\n",
    "    for best_subgoal, worst_subgoal in r[\"best_worst_subgoals\"]:\n",
    "        # fill in subgoal cost delta\n",
    "        delta = worst_subgoal.subgoal.solution_cost - best_subgoal.subgoal.solution_cost\n",
    "        ratio = worst_subgoal.subgoal.solution_cost / best_subgoal.subgoal.solution_cost\n",
    "        # fill in state from the best subgoal\n",
    "        state = best_subgoal.subgoal.prior_world.current_state\n",
    "        # insert into dataframe\n",
    "        df.loc[i] = [\n",
    "            r[\"world name\"],\n",
    "            r[\"world\"],\n",
    "            best_subgoal,\n",
    "            worst_subgoal,\n",
    "            delta,\n",
    "            ratio,\n",
    "            r[\"percentile\"],\n",
    "            state,\n",
    "            state.blocks,\n",
    "            r[\"world_size\"],\n",
    "            r[\"world_size_percentile\"],\n",
    "        ]\n",
    "        i += 1"
   ]
  },
  {
   "cell_type": "code",
   "execution_count": 80,
   "metadata": {},
   "outputs": [],
   "source": [
    "# get percentiles for subgoal size\n",
    "subgoal_sizes = df[\"best subgoal\"].apply(lambda x: np.sum(x.subgoal.bitmap > 0))\n",
    "\n",
    "subgoal_size_percentile_bounds = [np.percentile(subgoal_sizes, i) for i in [33, 66, 99]]\n",
    "\n",
    "\n",
    "def get_subgoal_size_percentile(subgoal):\n",
    "    subgoal_size = np.sum(subgoal.subgoal.bitmap > 0)\n",
    "    if subgoal_size < subgoal_size_percentile_bounds[0]:\n",
    "        return \"small\"\n",
    "    elif subgoal_size < subgoal_size_percentile_bounds[1]:\n",
    "        return \"medium\"\n",
    "    else:\n",
    "        return \"large\"\n",
    "\n",
    "\n",
    "df[\"subgoal size percentile\"] = df[\"best subgoal\"].apply(get_subgoal_size_percentile)"
   ]
  },
  {
   "cell_type": "markdown",
   "metadata": {},
   "source": [
    "What is the distribution over the subgoal deltas/ratios?"
   ]
  },
  {
   "cell_type": "code",
   "execution_count": 89,
   "metadata": {},
   "outputs": [
    {
     "data": {
      "text/plain": [
       "<AxesSubplot:>"
      ]
     },
     "execution_count": 89,
     "metadata": {},
     "output_type": "execute_result"
    },
    {
     "data": {
      "image/png": "[encoded data removed]",
      "text/plain": [
       "<Figure size 432x288 with 1 Axes>"
      ]
     },
     "metadata": {
      "needs_background": "light"
     },
     "output_type": "display_data"
    }
   ],
   "source": [
    "df[\"subgoal cost delta\"].hist()"
   ]
  },
  {
   "cell_type": "code",
   "execution_count": 90,
   "metadata": {},
   "outputs": [
    {
     "data": {
      "text/plain": [
       "<AxesSubplot:>"
      ]
     },
     "execution_count": 90,
     "metadata": {},
     "output_type": "execute_result"
    },
    {
     "data": {
      "image/png": "[encoded data removed]",
      "text/plain": [
       "<Figure size 432x288 with 1 Axes>"
      ]
     },
     "metadata": {
      "needs_background": "light"
     },
     "output_type": "display_data"
    }
   ],
   "source": [
    "df[\"subgoal cost ratio\"].hist()"
   ]
  },
  {
   "cell_type": "markdown",
   "metadata": {},
   "source": [
    "What is the size of the subgoals (in number of cells)?"
   ]
  },
  {
   "cell_type": "code",
   "execution_count": 91,
   "metadata": {},
   "outputs": [
    {
     "data": {
      "text/html": [
       "<div>\n",
       "<style scoped>\n",
       "    .dataframe tbody tr th:only-of-type {\n",
       "        vertical-align: middle;\n",
       "    }\n",
       "\n",
       "    .dataframe tbody tr th {\n",
       "        vertical-align: top;\n",
       "    }\n",
       "\n",
       "    .dataframe thead th {\n",
       "        text-align: right;\n",
       "    }\n",
       "</style>\n",
       "<table border=\"1\" class=\"dataframe\">\n",
       "  <thead>\n",
       "    <tr style=\"text-align: right;\">\n",
       "      <th></th>\n",
       "      <th>count</th>\n",
       "      <th>mean</th>\n",
       "      <th>std</th>\n",
       "      <th>min</th>\n",
       "      <th>25%</th>\n",
       "      <th>50%</th>\n",
       "      <th>75%</th>\n",
       "      <th>max</th>\n",
       "    </tr>\n",
       "    <tr>\n",
       "      <th>subgoal size percentile</th>\n",
       "      <th></th>\n",
       "      <th></th>\n",
       "      <th></th>\n",
       "      <th></th>\n",
       "      <th></th>\n",
       "      <th></th>\n",
       "      <th></th>\n",
       "      <th></th>\n",
       "    </tr>\n",
       "  </thead>\n",
       "  <tbody>\n",
       "    <tr>\n",
       "      <th>large</th>\n",
       "      <td>6.0</td>\n",
       "      <td>17.333333</td>\n",
       "      <td>6.860515</td>\n",
       "      <td>12.0</td>\n",
       "      <td>12.75</td>\n",
       "      <td>15.0</td>\n",
       "      <td>18.75</td>\n",
       "      <td>30.0</td>\n",
       "    </tr>\n",
       "    <tr>\n",
       "      <th>medium</th>\n",
       "      <td>9.0</td>\n",
       "      <td>7.888889</td>\n",
       "      <td>1.900292</td>\n",
       "      <td>6.0</td>\n",
       "      <td>6.00</td>\n",
       "      <td>8.0</td>\n",
       "      <td>10.00</td>\n",
       "      <td>10.0</td>\n",
       "    </tr>\n",
       "    <tr>\n",
       "      <th>small</th>\n",
       "      <td>3.0</td>\n",
       "      <td>4.333333</td>\n",
       "      <td>0.577350</td>\n",
       "      <td>4.0</td>\n",
       "      <td>4.00</td>\n",
       "      <td>4.0</td>\n",
       "      <td>4.50</td>\n",
       "      <td>5.0</td>\n",
       "    </tr>\n",
       "  </tbody>\n",
       "</table>\n",
       "</div>"
      ],
      "text/plain": [
       "                         count       mean       std   min    25%   50%    75%  \\\n",
       "subgoal size percentile                                                         \n",
       "large                      6.0  17.333333  6.860515  12.0  12.75  15.0  18.75   \n",
       "medium                     9.0   7.888889  1.900292   6.0   6.00   8.0  10.00   \n",
       "small                      3.0   4.333333  0.577350   4.0   4.00   4.0   4.50   \n",
       "\n",
       "                          max  \n",
       "subgoal size percentile        \n",
       "large                    30.0  \n",
       "medium                   10.0  \n",
       "small                     5.0  "
      ]
     },
     "execution_count": 91,
     "metadata": {},
     "output_type": "execute_result"
    }
   ],
   "source": [
    "df[\"subgoal size\"] = df[\"best subgoal\"].apply(lambda x: np.sum(x.subgoal.bitmap > 0))\n",
    "df.groupby(\"subgoal size percentile\").describe()[\"subgoal size\"]"
   ]
  },
  {
   "cell_type": "code",
   "execution_count": 88,
   "metadata": {},
   "outputs": [
    {
     "data": {
      "text/plain": [
       "<AxesSubplot:>"
      ]
     },
     "execution_count": 88,
     "metadata": {},
     "output_type": "execute_result"
    },
    {
     "data": {
      "image/png": "[encoded data removed]",
      "text/plain": [
       "<Figure size 432x288 with 1 Axes>"
      ]
     },
     "metadata": {
      "needs_background": "light"
     },
     "output_type": "display_data"
    }
   ],
   "source": [
    "df[\"subgoal size\"].hist()"
   ]
  },
  {
   "cell_type": "markdown",
   "metadata": {},
   "source": [
    "Let's display some of the subgoals "
   ]
  },
  {
   "cell_type": "code",
   "execution_count": 92,
   "metadata": {},
   "outputs": [
    {
     "name": "stdout",
     "output_type": "stream",
     "text": [
      "6 39\n"
     ]
    },
    {
     "data": {
      "image/png": "[encoded data removed]",
      "text/plain": [
       "<Figure size 288x288 with 1 Axes>"
      ]
     },
     "metadata": {
      "needs_background": "light"
     },
     "output_type": "display_data"
    },
    {
     "name": "stdout",
     "output_type": "stream",
     "text": [
      "9 91\n"
     ]
    },
    {
     "data": {
      "image/png": "[encoded data removed]",
      "text/plain": [
       "<Figure size 288x288 with 1 Axes>"
      ]
     },
     "metadata": {
      "needs_background": "light"
     },
     "output_type": "display_data"
    },
    {
     "name": "stdout",
     "output_type": "stream",
     "text": [
      "7 39\n"
     ]
    },
    {
     "data": {
      "image/png": "[encoded data removed]",
      "text/plain": [
       "<Figure size 288x288 with 1 Axes>"
      ]
     },
     "metadata": {
      "needs_background": "light"
     },
     "output_type": "display_data"
    }
   ],
   "source": [
    "for i, row in df.sort_values(\"subgoal cost ratio\", ascending=False).head(3).iterrows():\n",
    "    print(i, row[\"subgoal cost delta\"])\n",
    "    # construct dummy sequence\n",
    "    sequence = Subgoal_sequence([row[\"best subgoal\"], row[\"worst subgoal\"]])\n",
    "    sequence.visual_display()"
   ]
  },
  {
   "cell_type": "markdown",
   "metadata": {},
   "source": [
    "We need to assert that we only have subgoals that don't depend on previously placed blocks because reproducing blocks is not yet implemented in the experiment."
   ]
  },
  {
   "cell_type": "code",
   "execution_count": 99,
   "metadata": {},
   "outputs": [],
   "source": [
    "assert np.all(\n",
    "    [\n",
    "        x == []\n",
    "        for x in df[\"best subgoal\"].apply(\n",
    "            lambda x: x.subgoal.prior_world.current_state.blocks\n",
    "        )\n",
    "    ]\n",
    "), \"Not at all subgoals depend on the empty world state!\""
   ]
  },
  {
   "cell_type": "markdown",
   "metadata": {},
   "source": [
    "Let's save the dataframe to disk. This will serve as the basis for the `given_subgoal` human experiment."
   ]
  },
  {
   "cell_type": "code",
   "execution_count": 101,
   "metadata": {},
   "outputs": [
    {
     "data": {
      "text/html": [
       "<div>\n",
       "<style scoped>\n",
       "    .dataframe tbody tr th:only-of-type {\n",
       "        vertical-align: middle;\n",
       "    }\n",
       "\n",
       "    .dataframe tbody tr th {\n",
       "        vertical-align: top;\n",
       "    }\n",
       "\n",
       "    .dataframe thead th {\n",
       "        text-align: right;\n",
       "    }\n",
       "</style>\n",
       "<table border=\"1\" class=\"dataframe\">\n",
       "  <thead>\n",
       "    <tr style=\"text-align: right;\">\n",
       "      <th></th>\n",
       "      <th>world name</th>\n",
       "      <th>world</th>\n",
       "      <th>best subgoal</th>\n",
       "      <th>worst subgoal</th>\n",
       "      <th>subgoal cost delta</th>\n",
       "      <th>subgoal cost ratio</th>\n",
       "      <th>tower percentile</th>\n",
       "      <th>state</th>\n",
       "      <th>blocks</th>\n",
       "      <th>world size</th>\n",
       "      <th>world size percentile</th>\n",
       "      <th>subgoal size percentile</th>\n",
       "      <th>subgoal_size</th>\n",
       "      <th>subgoal size</th>\n",
       "    </tr>\n",
       "  </thead>\n",
       "  <tbody>\n",
       "    <tr>\n",
       "      <th>0</th>\n",
       "      <td>1</td>\n",
       "      <td>Blockworld</td>\n",
       "      <td>&lt;stimuli.subgoal_tree.SubgoalTreeNode object a...</td>\n",
       "      <td>&lt;stimuli.subgoal_tree.SubgoalTreeNode object a...</td>\n",
       "      <td>3</td>\n",
       "      <td>2.000000</td>\n",
       "      <td>easy</td>\n",
       "      <td>&lt;utils.blockworld.Blockworld.State object at 0...</td>\n",
       "      <td>[]</td>\n",
       "      <td>5</td>\n",
       "      <td>medium</td>\n",
       "      <td>medium</td>\n",
       "      <td>6</td>\n",
       "      <td>6</td>\n",
       "    </tr>\n",
       "    <tr>\n",
       "      <th>1</th>\n",
       "      <td>1</td>\n",
       "      <td>Blockworld</td>\n",
       "      <td>&lt;stimuli.subgoal_tree.SubgoalTreeNode object a...</td>\n",
       "      <td>&lt;stimuli.subgoal_tree.SubgoalTreeNode object a...</td>\n",
       "      <td>1</td>\n",
       "      <td>1.333333</td>\n",
       "      <td>easy</td>\n",
       "      <td>&lt;utils.blockworld.Blockworld.State object at 0...</td>\n",
       "      <td>[]</td>\n",
       "      <td>5</td>\n",
       "      <td>medium</td>\n",
       "      <td>medium</td>\n",
       "      <td>6</td>\n",
       "      <td>6</td>\n",
       "    </tr>\n",
       "    <tr>\n",
       "      <th>2</th>\n",
       "      <td>2</td>\n",
       "      <td>Blockworld</td>\n",
       "      <td>&lt;stimuli.subgoal_tree.SubgoalTreeNode object a...</td>\n",
       "      <td>&lt;stimuli.subgoal_tree.SubgoalTreeNode object a...</td>\n",
       "      <td>2</td>\n",
       "      <td>1.500000</td>\n",
       "      <td>hard</td>\n",
       "      <td>&lt;utils.blockworld.Blockworld.State object at 0...</td>\n",
       "      <td>[]</td>\n",
       "      <td>5</td>\n",
       "      <td>medium</td>\n",
       "      <td>small</td>\n",
       "      <td>4</td>\n",
       "      <td>4</td>\n",
       "    </tr>\n",
       "    <tr>\n",
       "      <th>3</th>\n",
       "      <td>2</td>\n",
       "      <td>Blockworld</td>\n",
       "      <td>&lt;stimuli.subgoal_tree.SubgoalTreeNode object a...</td>\n",
       "      <td>&lt;stimuli.subgoal_tree.SubgoalTreeNode object a...</td>\n",
       "      <td>3</td>\n",
       "      <td>2.000000</td>\n",
       "      <td>hard</td>\n",
       "      <td>&lt;utils.blockworld.Blockworld.State object at 0...</td>\n",
       "      <td>[]</td>\n",
       "      <td>5</td>\n",
       "      <td>medium</td>\n",
       "      <td>medium</td>\n",
       "      <td>9</td>\n",
       "      <td>9</td>\n",
       "    </tr>\n",
       "    <tr>\n",
       "      <th>4</th>\n",
       "      <td>2</td>\n",
       "      <td>Blockworld</td>\n",
       "      <td>&lt;stimuli.subgoal_tree.SubgoalTreeNode object a...</td>\n",
       "      <td>&lt;stimuli.subgoal_tree.SubgoalTreeNode object a...</td>\n",
       "      <td>7</td>\n",
       "      <td>3.333333</td>\n",
       "      <td>hard</td>\n",
       "      <td>&lt;utils.blockworld.Blockworld.State object at 0...</td>\n",
       "      <td>[]</td>\n",
       "      <td>5</td>\n",
       "      <td>medium</td>\n",
       "      <td>large</td>\n",
       "      <td>12</td>\n",
       "      <td>12</td>\n",
       "    </tr>\n",
       "    <tr>\n",
       "      <th>5</th>\n",
       "      <td>3</td>\n",
       "      <td>Blockworld</td>\n",
       "      <td>&lt;stimuli.subgoal_tree.SubgoalTreeNode object a...</td>\n",
       "      <td>&lt;stimuli.subgoal_tree.SubgoalTreeNode object a...</td>\n",
       "      <td>3</td>\n",
       "      <td>1.750000</td>\n",
       "      <td>hard</td>\n",
       "      <td>&lt;utils.blockworld.Blockworld.State object at 0...</td>\n",
       "      <td>[]</td>\n",
       "      <td>6</td>\n",
       "      <td>large</td>\n",
       "      <td>medium</td>\n",
       "      <td>8</td>\n",
       "      <td>8</td>\n",
       "    </tr>\n",
       "    <tr>\n",
       "      <th>6</th>\n",
       "      <td>3</td>\n",
       "      <td>Blockworld</td>\n",
       "      <td>&lt;stimuli.subgoal_tree.SubgoalTreeNode object a...</td>\n",
       "      <td>&lt;stimuli.subgoal_tree.SubgoalTreeNode object a...</td>\n",
       "      <td>39</td>\n",
       "      <td>8.800000</td>\n",
       "      <td>hard</td>\n",
       "      <td>&lt;utils.blockworld.Blockworld.State object at 0...</td>\n",
       "      <td>[]</td>\n",
       "      <td>6</td>\n",
       "      <td>large</td>\n",
       "      <td>large</td>\n",
       "      <td>15</td>\n",
       "      <td>15</td>\n",
       "    </tr>\n",
       "    <tr>\n",
       "      <th>7</th>\n",
       "      <td>3</td>\n",
       "      <td>Blockworld</td>\n",
       "      <td>&lt;stimuli.subgoal_tree.SubgoalTreeNode object a...</td>\n",
       "      <td>&lt;stimuli.subgoal_tree.SubgoalTreeNode object a...</td>\n",
       "      <td>39</td>\n",
       "      <td>7.500000</td>\n",
       "      <td>hard</td>\n",
       "      <td>&lt;utils.blockworld.Blockworld.State object at 0...</td>\n",
       "      <td>[]</td>\n",
       "      <td>6</td>\n",
       "      <td>large</td>\n",
       "      <td>large</td>\n",
       "      <td>30</td>\n",
       "      <td>30</td>\n",
       "    </tr>\n",
       "    <tr>\n",
       "      <th>8</th>\n",
       "      <td>3</td>\n",
       "      <td>Blockworld</td>\n",
       "      <td>&lt;stimuli.subgoal_tree.SubgoalTreeNode object a...</td>\n",
       "      <td>&lt;stimuli.subgoal_tree.SubgoalTreeNode object a...</td>\n",
       "      <td>4</td>\n",
       "      <td>2.333333</td>\n",
       "      <td>hard</td>\n",
       "      <td>&lt;utils.blockworld.Blockworld.State object at 0...</td>\n",
       "      <td>[]</td>\n",
       "      <td>6</td>\n",
       "      <td>large</td>\n",
       "      <td>medium</td>\n",
       "      <td>6</td>\n",
       "      <td>6</td>\n",
       "    </tr>\n",
       "    <tr>\n",
       "      <th>9</th>\n",
       "      <td>3</td>\n",
       "      <td>Blockworld</td>\n",
       "      <td>&lt;stimuli.subgoal_tree.SubgoalTreeNode object a...</td>\n",
       "      <td>&lt;stimuli.subgoal_tree.SubgoalTreeNode object a...</td>\n",
       "      <td>91</td>\n",
       "      <td>8.000000</td>\n",
       "      <td>hard</td>\n",
       "      <td>&lt;utils.blockworld.Blockworld.State object at 0...</td>\n",
       "      <td>[]</td>\n",
       "      <td>6</td>\n",
       "      <td>large</td>\n",
       "      <td>large</td>\n",
       "      <td>20</td>\n",
       "      <td>20</td>\n",
       "    </tr>\n",
       "    <tr>\n",
       "      <th>10</th>\n",
       "      <td>3</td>\n",
       "      <td>Blockworld</td>\n",
       "      <td>&lt;stimuli.subgoal_tree.SubgoalTreeNode object a...</td>\n",
       "      <td>&lt;stimuli.subgoal_tree.SubgoalTreeNode object a...</td>\n",
       "      <td>21</td>\n",
       "      <td>5.200000</td>\n",
       "      <td>hard</td>\n",
       "      <td>&lt;utils.blockworld.Blockworld.State object at 0...</td>\n",
       "      <td>[]</td>\n",
       "      <td>6</td>\n",
       "      <td>large</td>\n",
       "      <td>medium</td>\n",
       "      <td>10</td>\n",
       "      <td>10</td>\n",
       "    </tr>\n",
       "    <tr>\n",
       "      <th>11</th>\n",
       "      <td>3</td>\n",
       "      <td>Blockworld</td>\n",
       "      <td>&lt;stimuli.subgoal_tree.SubgoalTreeNode object a...</td>\n",
       "      <td>&lt;stimuli.subgoal_tree.SubgoalTreeNode object a...</td>\n",
       "      <td>3</td>\n",
       "      <td>2.000000</td>\n",
       "      <td>hard</td>\n",
       "      <td>&lt;utils.blockworld.Blockworld.State object at 0...</td>\n",
       "      <td>[]</td>\n",
       "      <td>6</td>\n",
       "      <td>large</td>\n",
       "      <td>small</td>\n",
       "      <td>4</td>\n",
       "      <td>4</td>\n",
       "    </tr>\n",
       "    <tr>\n",
       "      <th>12</th>\n",
       "      <td>4</td>\n",
       "      <td>Blockworld</td>\n",
       "      <td>&lt;stimuli.subgoal_tree.SubgoalTreeNode object a...</td>\n",
       "      <td>&lt;stimuli.subgoal_tree.SubgoalTreeNode object a...</td>\n",
       "      <td>5</td>\n",
       "      <td>2.250000</td>\n",
       "      <td>easy</td>\n",
       "      <td>&lt;utils.blockworld.Blockworld.State object at 0...</td>\n",
       "      <td>[]</td>\n",
       "      <td>4</td>\n",
       "      <td>small</td>\n",
       "      <td>large</td>\n",
       "      <td>15</td>\n",
       "      <td>15</td>\n",
       "    </tr>\n",
       "    <tr>\n",
       "      <th>13</th>\n",
       "      <td>5</td>\n",
       "      <td>Blockworld</td>\n",
       "      <td>&lt;stimuli.subgoal_tree.SubgoalTreeNode object a...</td>\n",
       "      <td>&lt;stimuli.subgoal_tree.SubgoalTreeNode object a...</td>\n",
       "      <td>5</td>\n",
       "      <td>2.250000</td>\n",
       "      <td>medium</td>\n",
       "      <td>&lt;utils.blockworld.Blockworld.State object at 0...</td>\n",
       "      <td>[]</td>\n",
       "      <td>6</td>\n",
       "      <td>large</td>\n",
       "      <td>medium</td>\n",
       "      <td>10</td>\n",
       "      <td>10</td>\n",
       "    </tr>\n",
       "    <tr>\n",
       "      <th>14</th>\n",
       "      <td>5</td>\n",
       "      <td>Blockworld</td>\n",
       "      <td>&lt;stimuli.subgoal_tree.SubgoalTreeNode object a...</td>\n",
       "      <td>&lt;stimuli.subgoal_tree.SubgoalTreeNode object a...</td>\n",
       "      <td>1</td>\n",
       "      <td>1.062500</td>\n",
       "      <td>medium</td>\n",
       "      <td>&lt;utils.blockworld.Blockworld.State object at 0...</td>\n",
       "      <td>[]</td>\n",
       "      <td>6</td>\n",
       "      <td>large</td>\n",
       "      <td>large</td>\n",
       "      <td>12</td>\n",
       "      <td>12</td>\n",
       "    </tr>\n",
       "    <tr>\n",
       "      <th>15</th>\n",
       "      <td>5</td>\n",
       "      <td>Blockworld</td>\n",
       "      <td>&lt;stimuli.subgoal_tree.SubgoalTreeNode object a...</td>\n",
       "      <td>&lt;stimuli.subgoal_tree.SubgoalTreeNode object a...</td>\n",
       "      <td>18</td>\n",
       "      <td>2.200000</td>\n",
       "      <td>medium</td>\n",
       "      <td>&lt;utils.blockworld.Blockworld.State object at 0...</td>\n",
       "      <td>[]</td>\n",
       "      <td>6</td>\n",
       "      <td>large</td>\n",
       "      <td>medium</td>\n",
       "      <td>10</td>\n",
       "      <td>10</td>\n",
       "    </tr>\n",
       "    <tr>\n",
       "      <th>16</th>\n",
       "      <td>5</td>\n",
       "      <td>Blockworld</td>\n",
       "      <td>&lt;stimuli.subgoal_tree.SubgoalTreeNode object a...</td>\n",
       "      <td>&lt;stimuli.subgoal_tree.SubgoalTreeNode object a...</td>\n",
       "      <td>1</td>\n",
       "      <td>1.333333</td>\n",
       "      <td>medium</td>\n",
       "      <td>&lt;utils.blockworld.Blockworld.State object at 0...</td>\n",
       "      <td>[]</td>\n",
       "      <td>6</td>\n",
       "      <td>large</td>\n",
       "      <td>small</td>\n",
       "      <td>5</td>\n",
       "      <td>5</td>\n",
       "    </tr>\n",
       "    <tr>\n",
       "      <th>17</th>\n",
       "      <td>7</td>\n",
       "      <td>Blockworld</td>\n",
       "      <td>&lt;stimuli.subgoal_tree.SubgoalTreeNode object a...</td>\n",
       "      <td>&lt;stimuli.subgoal_tree.SubgoalTreeNode object a...</td>\n",
       "      <td>1</td>\n",
       "      <td>1.250000</td>\n",
       "      <td>medium</td>\n",
       "      <td>&lt;utils.blockworld.Blockworld.State object at 0...</td>\n",
       "      <td>[]</td>\n",
       "      <td>4</td>\n",
       "      <td>small</td>\n",
       "      <td>medium</td>\n",
       "      <td>6</td>\n",
       "      <td>6</td>\n",
       "    </tr>\n",
       "  </tbody>\n",
       "</table>\n",
       "</div>"
      ],
      "text/plain": [
       "    world name       world                                       best subgoal  \\\n",
       "0            1  Blockworld  <stimuli.subgoal_tree.SubgoalTreeNode object a...   \n",
       "1            1  Blockworld  <stimuli.subgoal_tree.SubgoalTreeNode object a...   \n",
       "2            2  Blockworld  <stimuli.subgoal_tree.SubgoalTreeNode object a...   \n",
       "3            2  Blockworld  <stimuli.subgoal_tree.SubgoalTreeNode object a...   \n",
       "4            2  Blockworld  <stimuli.subgoal_tree.SubgoalTreeNode object a...   \n",
       "5            3  Blockworld  <stimuli.subgoal_tree.SubgoalTreeNode object a...   \n",
       "6            3  Blockworld  <stimuli.subgoal_tree.SubgoalTreeNode object a...   \n",
       "7            3  Blockworld  <stimuli.subgoal_tree.SubgoalTreeNode object a...   \n",
       "8            3  Blockworld  <stimuli.subgoal_tree.SubgoalTreeNode object a...   \n",
       "9            3  Blockworld  <stimuli.subgoal_tree.SubgoalTreeNode object a...   \n",
       "10           3  Blockworld  <stimuli.subgoal_tree.SubgoalTreeNode object a...   \n",
       "11           3  Blockworld  <stimuli.subgoal_tree.SubgoalTreeNode object a...   \n",
       "12           4  Blockworld  <stimuli.subgoal_tree.SubgoalTreeNode object a...   \n",
       "13           5  Blockworld  <stimuli.subgoal_tree.SubgoalTreeNode object a...   \n",
       "14           5  Blockworld  <stimuli.subgoal_tree.SubgoalTreeNode object a...   \n",
       "15           5  Blockworld  <stimuli.subgoal_tree.SubgoalTreeNode object a...   \n",
       "16           5  Blockworld  <stimuli.subgoal_tree.SubgoalTreeNode object a...   \n",
       "17           7  Blockworld  <stimuli.subgoal_tree.SubgoalTreeNode object a...   \n",
       "\n",
       "                                        worst subgoal  subgoal cost delta  \\\n",
       "0   <stimuli.subgoal_tree.SubgoalTreeNode object a...                   3   \n",
       "1   <stimuli.subgoal_tree.SubgoalTreeNode object a...                   1   \n",
       "2   <stimuli.subgoal_tree.SubgoalTreeNode object a...                   2   \n",
       "3   <stimuli.subgoal_tree.SubgoalTreeNode object a...                   3   \n",
       "4   <stimuli.subgoal_tree.SubgoalTreeNode object a...                   7   \n",
       "5   <stimuli.subgoal_tree.SubgoalTreeNode object a...                   3   \n",
       "6   <stimuli.subgoal_tree.SubgoalTreeNode object a...                  39   \n",
       "7   <stimuli.subgoal_tree.SubgoalTreeNode object a...                  39   \n",
       "8   <stimuli.subgoal_tree.SubgoalTreeNode object a...                   4   \n",
       "9   <stimuli.subgoal_tree.SubgoalTreeNode object a...                  91   \n",
       "10  <stimuli.subgoal_tree.SubgoalTreeNode object a...                  21   \n",
       "11  <stimuli.subgoal_tree.SubgoalTreeNode object a...                   3   \n",
       "12  <stimuli.subgoal_tree.SubgoalTreeNode object a...                   5   \n",
       "13  <stimuli.subgoal_tree.SubgoalTreeNode object a...                   5   \n",
       "14  <stimuli.subgoal_tree.SubgoalTreeNode object a...                   1   \n",
       "15  <stimuli.subgoal_tree.SubgoalTreeNode object a...                  18   \n",
       "16  <stimuli.subgoal_tree.SubgoalTreeNode object a...                   1   \n",
       "17  <stimuli.subgoal_tree.SubgoalTreeNode object a...                   1   \n",
       "\n",
       "    subgoal cost ratio tower percentile  \\\n",
       "0             2.000000             easy   \n",
       "1             1.333333             easy   \n",
       "2             1.500000             hard   \n",
       "3             2.000000             hard   \n",
       "4             3.333333             hard   \n",
       "5             1.750000             hard   \n",
       "6             8.800000             hard   \n",
       "7             7.500000             hard   \n",
       "8             2.333333             hard   \n",
       "9             8.000000             hard   \n",
       "10            5.200000             hard   \n",
       "11            2.000000             hard   \n",
       "12            2.250000             easy   \n",
       "13            2.250000           medium   \n",
       "14            1.062500           medium   \n",
       "15            2.200000           medium   \n",
       "16            1.333333           medium   \n",
       "17            1.250000           medium   \n",
       "\n",
       "                                                state blocks  world size  \\\n",
       "0   <utils.blockworld.Blockworld.State object at 0...     []           5   \n",
       "1   <utils.blockworld.Blockworld.State object at 0...     []           5   \n",
       "2   <utils.blockworld.Blockworld.State object at 0...     []           5   \n",
       "3   <utils.blockworld.Blockworld.State object at 0...     []           5   \n",
       "4   <utils.blockworld.Blockworld.State object at 0...     []           5   \n",
       "5   <utils.blockworld.Blockworld.State object at 0...     []           6   \n",
       "6   <utils.blockworld.Blockworld.State object at 0...     []           6   \n",
       "7   <utils.blockworld.Blockworld.State object at 0...     []           6   \n",
       "8   <utils.blockworld.Blockworld.State object at 0...     []           6   \n",
       "9   <utils.blockworld.Blockworld.State object at 0...     []           6   \n",
       "10  <utils.blockworld.Blockworld.State object at 0...     []           6   \n",
       "11  <utils.blockworld.Blockworld.State object at 0...     []           6   \n",
       "12  <utils.blockworld.Blockworld.State object at 0...     []           4   \n",
       "13  <utils.blockworld.Blockworld.State object at 0...     []           6   \n",
       "14  <utils.blockworld.Blockworld.State object at 0...     []           6   \n",
       "15  <utils.blockworld.Blockworld.State object at 0...     []           6   \n",
       "16  <utils.blockworld.Blockworld.State object at 0...     []           6   \n",
       "17  <utils.blockworld.Blockworld.State object at 0...     []           4   \n",
       "\n",
       "   world size percentile subgoal size percentile  subgoal_size  subgoal size  \n",
       "0                 medium                  medium             6             6  \n",
       "1                 medium                  medium             6             6  \n",
       "2                 medium                   small             4             4  \n",
       "3                 medium                  medium             9             9  \n",
       "4                 medium                   large            12            12  \n",
       "5                  large                  medium             8             8  \n",
       "6                  large                   large            15            15  \n",
       "7                  large                   large            30            30  \n",
       "8                  large                  medium             6             6  \n",
       "9                  large                   large            20            20  \n",
       "10                 large                  medium            10            10  \n",
       "11                 large                   small             4             4  \n",
       "12                 small                   large            15            15  \n",
       "13                 large                  medium            10            10  \n",
       "14                 large                   large            12            12  \n",
       "15                 large                  medium            10            10  \n",
       "16                 large                   small             5             5  \n",
       "17                 small                  medium             6             6  "
      ]
     },
     "execution_count": 101,
     "metadata": {},
     "output_type": "execute_result"
    }
   ],
   "source": [
    "df"
   ]
  },
  {
   "cell_type": "code",
   "execution_count": null,
   "metadata": {},
   "outputs": [],
   "source": [
    "df.to_pickle(\"most divergent subgoals {}.pkl\".format(date))\n",
    "print('Saved to \"most divergent subgoals {}.pkl\"'.format(date))"
   ]
  }
 ],
 "metadata": {
  "interpreter": {
   "hash": "e8a0db0c320a248546b74be3a9327a6b1846905be2e5b5893711db7bb0ee00ed"
  },
  "kernelspec": {
   "display_name": "Python 3.9.7 ('scoping')",
   "language": "python",
   "name": "python3"
  },
  "language_info": {
   "codemirror_mode": {
    "name": "ipython",
    "version": 3
   },
   "file_extension": ".py",
   "mimetype": "text/x-python",
   "name": "python",
   "nbconvert_exporter": "python",
   "pygments_lexer": "ipython3",
   "version": "3.9.7"
  },
  "orig_nbformat": 4
 },
 "nbformat": 4,
 "nbformat_minor": 2
}
