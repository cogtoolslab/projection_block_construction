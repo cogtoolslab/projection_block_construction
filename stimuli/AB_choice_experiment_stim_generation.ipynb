{
 "cells": [
  {
   "cell_type": "markdown",
   "metadata": {},
   "source": [
    "# Generating stimuli for A/B choice experiment, given_subgoal experiment"
   ]
  },
  {
   "cell_type": "markdown",
   "metadata": {},
   "source": [
    "Purpose of this notebook is:\n",
    "* to create a set of towers\n",
    "* for each tower, create a tree of branching subgoal choices, which each subgoal on each turn being either the cheapest or the most expensive one meeting a certain condition.\n",
    "    * ensuring that each node has a path to the goal (can we do that?)\n",
    "* visualize the different choices\n",
    "* create a list of **subgoals** with an associated world state, not necessarily the best and worst sequence.\n",
    "* save that out to a pickled dataframe for the upload notebook in the `_human_expperiment` repo\n",
    "\n",
    "Requires:\n",
    "*\n",
    "\n",
    "See also:\n",
    "* "
   ]
  },
  {
   "cell_type": "markdown",
   "metadata": {},
   "source": [
    "## Setup"
   ]
  },
  {
   "cell_type": "code",
   "execution_count": null,
   "metadata": {},
   "outputs": [],
   "source": [
    "# set up imports\n",
    "import os\n",
    "import sys\n",
    "__file__ = os.getcwd()\n",
    "proj_dir = os.path.dirname(os.path.realpath(__file__))\n",
    "sys.path.append(proj_dir)\n",
    "utils_dir = os.path.join(proj_dir, 'utils')\n",
    "sys.path.append(utils_dir)\n",
    "analysis_dir = os.path.join(proj_dir, 'analysis')\n",
    "analysis_utils_dir = os.path.join(analysis_dir, 'utils')\n",
    "sys.path.append(analysis_utils_dir)\n",
    "agent_dir = os.path.join(proj_dir, 'model')\n",
    "sys.path.append(agent_dir)\n",
    "agent_util_dir = os.path.join(agent_dir, 'utils')\n",
    "sys.path.append(agent_util_dir)\n",
    "experiments_dir = os.path.join(proj_dir, 'experiments')\n",
    "sys.path.append(experiments_dir)\n",
    "df_dir = os.path.join(proj_dir, 'results/dataframes')\n",
    "stim_dir = os.path.join(proj_dir, 'stimuli')"
   ]
  },
  {
   "cell_type": "code",
   "execution_count": null,
   "metadata": {},
   "outputs": [],
   "source": [
    "import tower_generator\n",
    "\n",
    "from tqdm import tqdm\n",
    "import p_tqdm\n",
    "\n",
    "import datetime\n",
    "\n",
    "import pickle\n",
    "\n",
    "import math\n",
    "\n",
    "import numpy as np\n",
    "import matplotlib.pyplot as plt\n",
    "import seaborn as sns\n",
    "import pandas as pd\n",
    "\n",
    "import scipy.stats as stats\n",
    "from scipy.stats import sem as sem\n",
    "\n",
    "from utils.blockworld_library import *\n",
    "from utils.blockworld import *\n",
    "\n",
    "from model.BFS_Lookahead_Agent import BFS_Lookahead_Agent\n",
    "from model.BFS_Agent import BFS_Agent\n",
    "from model.Astar_Agent import Astar_Agent\n",
    "from model.Best_First_Search_Agent import Best_First_Search_Agent\n",
    "from model.Subgoal_Planning_Agent import Subgoal_Planning_Agent\n",
    "\n",
    "from model.utils.decomposition_functions import *\n",
    "import utils.blockworld_library as bl\n",
    "\n"
   ]
  },
  {
   "cell_type": "code",
   "execution_count": null,
   "metadata": {},
   "outputs": [],
   "source": [
    "# used for naming the output file\n",
    "date = datetime.datetime.now().strftime(\"%Y-%m-%d_%H-%M-%S\")"
   ]
  },
  {
   "cell_type": "markdown",
   "metadata": {},
   "source": [
    "Usually we would fix the random seeds here, but the agents are being run with fixed random seeds, so this is not necessary here."
   ]
  },
  {
   "cell_type": "code",
   "execution_count": null,
   "metadata": {},
   "outputs": [],
   "source": [
    "# show all columns in dataframe\n",
    "pd.set_option('display.max_columns', None)"
   ]
  },
  {
   "cell_type": "markdown",
   "metadata": {},
   "source": [
    "## Generating towers\n"
   ]
  },
  {
   "cell_type": "code",
   "execution_count": null,
   "metadata": {},
   "outputs": [],
   "source": [
    "block_library = bl_nonoverlapping_simple"
   ]
  },
  {
   "cell_type": "code",
   "execution_count": null,
   "metadata": {},
   "outputs": [],
   "source": [
    "generator = tower_generator.TowerGenerator(8, 8,\n",
    "                                           block_library=block_library,\n",
    "                                           seed=3,\n",
    "                                           padding=(1, 0),\n",
    "                                           num_blocks=lambda: random.randint(6, 18), #  flat random interval of tower sizes (inclusive)\n",
    "                                           )"
   ]
  },
  {
   "cell_type": "code",
   "execution_count": null,
   "metadata": {},
   "outputs": [],
   "source": [
    "NUM_TOWERS  = 128\n",
    "towers = []\n",
    "for i in tqdm(range(NUM_TOWERS)):\n",
    "    tower = generator.generate()\n",
    "    towers.append(tower)"
   ]
  },
  {
   "cell_type": "code",
   "execution_count": null,
   "metadata": {},
   "outputs": [],
   "source": [
    "worlds = [Blockworld(silhouette=t['bitmap'], block_library=bl.bl_nonoverlapping_simple) for t in towers]\n",
    "worlds_sizes = [len(t['blocks']) for t in towers]"
   ]
  },
  {
   "cell_type": "markdown",
   "metadata": {},
   "source": [
    "Generate percentiles for the size of towers to select over in the experiment creation notebook"
   ]
  },
  {
   "cell_type": "code",
   "execution_count": null,
   "metadata": {},
   "outputs": [],
   "source": [
    "towersize_percentiles = [np.percentile(worlds_sizes, i)\n",
    "               for i in [33, 66, 99]]\n",
    "\n",
    "size_percentiles = [None] * len(worlds_sizes)\n",
    "for i, cost in enumerate(worlds_sizes):\n",
    "    if cost < towersize_percentiles[0]:\n",
    "        size_percentiles[i] = 'small'\n",
    "    elif cost < towersize_percentiles[1]:\n",
    "        size_percentiles[i] = 'medium'\n",
    "    else:\n",
    "        size_percentiles[i] = 'large'"
   ]
  },
  {
   "cell_type": "code",
   "execution_count": null,
   "metadata": {},
   "outputs": [],
   "source": [
    "# look at towers\n",
    "def visualize_towers(towers, text_parameters=None):\n",
    "    fig,axes = plt.subplots(math.ceil(len(towers)/5),5,figsize=(20,15*math.ceil(len(towers)/20)))\n",
    "    for axis, tower in zip(axes.flatten(),towers):\n",
    "        axis.imshow(tower['bitmap']*1.0)\n",
    "        if text_parameters is not None:\n",
    "            if type(text_parameters) is not list:\n",
    "                text_parameters = [text_parameters]\n",
    "            for y_offset,text_parameter in enumerate(text_parameters):\n",
    "                axis.text(0,y_offset*1.,str(text_parameter+\": \"+str(tower[text_parameter])),color='gray',fontsize=20)\n",
    "    plt.tight_layout()\n",
    "    plt.show()"
   ]
  },
  {
   "cell_type": "code",
   "execution_count": null,
   "metadata": {},
   "outputs": [],
   "source": [
    "visualize_towers(towers)"
   ]
  },
  {
   "cell_type": "markdown",
   "metadata": {},
   "source": [
    "## Score towers for basic difficulty\n",
    "For each tower, compute the cost of solving it using a planning agent."
   ]
  },
  {
   "cell_type": "markdown",
   "metadata": {},
   "source": [
    "Here, we use Best First Search without lookahead or subgoals."
   ]
  },
  {
   "cell_type": "code",
   "execution_count": null,
   "metadata": {},
   "outputs": [],
   "source": [
    "lower_agent = Best_First_Search_Agent(random_seed=42)"
   ]
  },
  {
   "cell_type": "code",
   "execution_count": null,
   "metadata": {},
   "outputs": [],
   "source": [
    "def get_tower_cost(agent,world):\n",
    "    cost = 0\n",
    "    agent.set_world(world)\n",
    "    world.reset()\n",
    "    while world.status()[0] == 'Ongoing':\n",
    "        _,step_info = agent.act()\n",
    "        cost += step_info['states_evaluated']\n",
    "    return cost,world.status()"
   ]
  },
  {
   "cell_type": "code",
   "execution_count": null,
   "metadata": {},
   "outputs": [],
   "source": [
    "# parallelized\n",
    "agents = [copy.deepcopy(a) for a in [lower_agent]*len(worlds)]\n",
    "\n",
    "# remove process connection before handoff to the threads\n",
    "for world in worlds:\n",
    "    world.physics_provider.kill_server(force=True)\n",
    "\n",
    "results = p_tqdm.p_map(get_tower_cost, agents, worlds)\n",
    "costs = [c[0] for c in results]\n",
    "statusses = [c[1] for c in results]"
   ]
  },
  {
   "cell_type": "markdown",
   "metadata": {},
   "source": [
    "Split the basic costs into three percentiles: easy, medium, hard."
   ]
  },
  {
   "cell_type": "code",
   "execution_count": null,
   "metadata": {},
   "outputs": [],
   "source": [
    "difficulty_percentiles = [np.percentile(costs, i)\n",
    "               for i in [33, 66, 99]]\n",
    "\n",
    "percentiles = [None] * len(costs)\n",
    "for i, cost in enumerate(costs):\n",
    "    if cost < difficulty_percentiles[0]:\n",
    "        percentiles[i] = 'easy'\n",
    "    elif cost < difficulty_percentiles[1]:\n",
    "        percentiles[i] = 'medium'\n",
    "    else:\n",
    "        percentiles[i] = 'hard'"
   ]
  },
  {
   "cell_type": "markdown",
   "metadata": {},
   "source": [
    "## Find best and worst subgoals\n",
    "We compute the full subgoal tree for each tower and extract the best and worst sequence.\n",
    "\n",
    "Note: for the planned studies, we will use individual states and subgoals, not sequences of subgoals."
   ]
  },
  {
   "cell_type": "code",
   "execution_count": null,
   "metadata": {},
   "outputs": [],
   "source": [
    "decomposer = Rectangular_Keyholes(\n",
    "    sequence_length=3,\n",
    "    necessary_conditions=[\n",
    "        Area_larger_than(area=1),\n",
    "        # Area_smaller_than(area=30), # used to be 21\n",
    "        Mass_smaller_than(area=16),\n",
    "        No_edge_rows_or_columns(),\n",
    "    ],\n",
    "    necessary_sequence_conditions=[\n",
    "        Complete(),\n",
    "        No_overlap(),\n",
    "        Supported(),\n",
    "    ]\n",
    ")\n",
    "\n",
    "sg_agent = Subgoal_Planning_Agent(lower_agent=lower_agent,\n",
    "    random_seed=42,\n",
    "    decomposer=decomposer)\n",
    "\n"
   ]
  },
  {
   "cell_type": "markdown",
   "metadata": {},
   "source": [
    "Calculate the subgoal tree for each tower."
   ]
  },
  {
   "cell_type": "code",
   "execution_count": null,
   "metadata": {},
   "outputs": [],
   "source": [
    "# # parallelized\n",
    "def get_subgoal_tree_from_tower(agent, world):\n",
    "    world.reset()\n",
    "    agent.set_world(world)\n",
    "    return agent.get_subgoal_tree(only_solved_sequences=True)\n",
    "\n",
    "agents = [copy.deepcopy(a) for a in [sg_agent]*len(worlds)]\n",
    "\n",
    "# remove process connection before handoff to the threads\n",
    "for world in worlds:\n",
    "    world.physics_provider.kill_server(force=True)\n",
    "\n",
    "trees = p_tqdm.p_map(get_subgoal_tree_from_tower, agents, worlds)"
   ]
  },
  {
   "cell_type": "markdown",
   "metadata": {},
   "source": [
    "### Select most divergent subgoals\n",
    "For each tower, select n state/subgoal combinations that are maximally divergent."
   ]
  },
  {
   "cell_type": "code",
   "execution_count": null,
   "metadata": {},
   "outputs": [],
   "source": [
    "NUM_SGs_PER_TOWER = 10 # how many subgoals do we want to choose?"
   ]
  },
  {
   "cell_type": "code",
   "execution_count": null,
   "metadata": {},
   "outputs": [],
   "source": [
    "best_worst_subgoals = []\n",
    "for tree in trees:\n",
    "    best_worst_subgoals.append(tree.get_most_divergent_matching_pairs_of_subgoals(NUM_SGs_PER_TOWER))"
   ]
  },
  {
   "cell_type": "code",
   "execution_count": null,
   "metadata": {},
   "outputs": [],
   "source": [
    "results = [{'world': world, 'world name': index, 'subgoal tree': tree, 'cost': cost, 'percentile': percentile, 'best_worst_subgoals': best_worst_subgoal, 'world_size': world_size, 'world_size_percentile': world_size_percentile}\n",
    "           for world, index, tree, cost, percentile, best_worst_subgoal, world_size, world_size_percentile in zip(worlds, range(len(towers)), trees, costs, percentiles, best_worst_subgoals, worlds_sizes, size_percentiles)]\n"
   ]
  },
  {
   "cell_type": "markdown",
   "metadata": {},
   "source": [
    "Add into df"
   ]
  },
  {
   "cell_type": "code",
   "execution_count": null,
   "metadata": {},
   "outputs": [],
   "source": [
    "df = pd.DataFrame(columns=['world name', 'world', 'best subgoal', 'worst subgoal',\n",
    "                  'subgoal cost delta', 'subgoal cost ratio', 'tower percentile', 'state', 'blocks', 'world size', 'world size percentile'])\n",
    "i = 0\n",
    "\n",
    "for r in results:\n",
    "    for best_subgoal, worst_subgoal in r['best_worst_subgoals']:\n",
    "        # fill in subgoal cost delta\n",
    "        delta = worst_subgoal.subgoal.solution_cost - best_subgoal.subgoal.solution_cost\n",
    "        ratio = worst_subgoal.subgoal.solution_cost / best_subgoal.subgoal.solution_cost\n",
    "        # fill in state from the best subgoal\n",
    "        state = best_subgoal.subgoal.prior_world.current_state\n",
    "        # insert into dataframe\n",
    "        df.loc[i] = [r['world name'], r['world'], best_subgoal,\n",
    "                     worst_subgoal, delta, ratio, r['percentile'], state, state.blocks, r['world_size'], r['world_size_percentile']]\n",
    "        i += 1\n"
   ]
  },
  {
   "cell_type": "markdown",
   "metadata": {},
   "source": [
    "What is the distribution over the subgoal deltas/ratios?"
   ]
  },
  {
   "cell_type": "code",
   "execution_count": null,
   "metadata": {},
   "outputs": [],
   "source": [
    "df['subgoal cost delta'].plot()"
   ]
  },
  {
   "cell_type": "code",
   "execution_count": null,
   "metadata": {},
   "outputs": [],
   "source": [
    "df['subgoal cost ratio'].plot()"
   ]
  },
  {
   "cell_type": "markdown",
   "metadata": {},
   "source": [
    "Let's display some of the subgoals "
   ]
  },
  {
   "cell_type": "code",
   "execution_count": null,
   "metadata": {},
   "outputs": [],
   "source": [
    "for i,row in df.sort_values('subgoal cost ratio',ascending=False).head(3).iterrows():\n",
    "    print(i,row['subgoal cost delta'])\n",
    "    # construct dummy sequence\n",
    "    sequence = Subgoal_sequence([row['best subgoal'], row['worst subgoal']])\n",
    "    sequence.visual_display()"
   ]
  },
  {
   "cell_type": "markdown",
   "metadata": {},
   "source": [
    "Let's save the dataframe to disk. This will serve as the basis for the `given_subgoal` human experiment."
   ]
  },
  {
   "cell_type": "code",
   "execution_count": null,
   "metadata": {},
   "outputs": [],
   "source": [
    "df['world size percentile'].value_counts()"
   ]
  },
  {
   "cell_type": "code",
   "execution_count": null,
   "metadata": {},
   "outputs": [],
   "source": [
    "df['tower percentile'].value_counts()"
   ]
  },
  {
   "cell_type": "code",
   "execution_count": null,
   "metadata": {},
   "outputs": [],
   "source": [
    "df"
   ]
  },
  {
   "cell_type": "code",
   "execution_count": null,
   "metadata": {},
   "outputs": [],
   "source": [
    "df.to_pickle(\"most divergent subgoals {}.pkl\".format(date))\n",
    "print('Saved to \"most divergent subgoals {}.pkl\"'.format(date))"
   ]
  },
  {
   "cell_type": "code",
   "execution_count": null,
   "metadata": {},
   "outputs": [],
   "source": []
  }
 ],
 "metadata": {
  "interpreter": {
   "hash": "e8a0db0c320a248546b74be3a9327a6b1846905be2e5b5893711db7bb0ee00ed"
  },
  "kernelspec": {
   "display_name": "Python 3.9.7 ('scoping')",
   "language": "python",
   "name": "python3"
  },
  "language_info": {
   "codemirror_mode": {
    "name": "ipython",
    "version": 3
   },
   "file_extension": ".py",
   "mimetype": "text/x-python",
   "name": "python",
   "nbconvert_exporter": "python",
   "pygments_lexer": "ipython3",
   "version": "3.9.7"
  },
  "orig_nbformat": 4
 },
 "nbformat": 4,
 "nbformat_minor": 2
}
