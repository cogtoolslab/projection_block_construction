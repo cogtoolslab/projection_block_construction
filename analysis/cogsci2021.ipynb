{
 "cells": [
  {
   "cell_type": "markdown",
   "metadata": {},
   "source": [
    "# CogSci 2021 figures & analysis"
   ]
  },
  {
   "cell_type": "code",
   "execution_count": null,
   "metadata": {},
   "outputs": [],
   "source": [
    "# set up imports\n",
    "import os\n",
    "import sys\n",
    "__file__ = os.getcwd()\n",
    "proj_dir =  os.path.dirname(os.path.realpath(__file__))\n",
    "sys.path.append(proj_dir)\n",
    "utils_dir = os.path.join(proj_dir,'utils')\n",
    "sys.path.append(utils_dir)\n",
    "analysis_dir = os.path.join(proj_dir,'analysis')\n",
    "analysis_utils_dir = os.path.join(analysis_dir,'utils')\n",
    "sys.path.append(analysis_utils_dir)\n",
    "agent_dir = os.path.join(proj_dir,'model')\n",
    "sys.path.append(agent_dir)\n",
    "agent_util_dir = os.path.join(agent_dir,'utils')\n",
    "sys.path.append(agent_util_dir)\n",
    "experiments_dir = os.path.join(proj_dir,'experiments')\n",
    "sys.path.append(experiments_dir)\n",
    "df_dir = os.path.join(proj_dir,'results/dataframes')"
   ]
  },
  {
   "cell_type": "code",
   "execution_count": null,
   "metadata": {},
   "outputs": [],
   "source": [
    "from model.Subgoal_Planning_Agent import *\n",
    "import utils.blockworld as bw\n",
    "import utils.blockworld_library as bl\n",
    "\n",
    "import numpy as np\n",
    "import pandas as pd\n",
    "import matplotlib.pyplot as plt"
   ]
  },
  {
   "cell_type": "code",
   "execution_count": null,
   "metadata": {},
   "outputs": [],
   "source": [
    "import model.utils.decomposition_functions"
   ]
  },
  {
   "cell_type": "code",
   "execution_count": null,
   "metadata": {},
   "outputs": [],
   "source": [
    "import scipy.stats as st"
   ]
  },
  {
   "cell_type": "code",
   "execution_count": null,
   "metadata": {},
   "outputs": [],
   "source": [
    "#inline plots\n",
    "%matplotlib inline\n",
    "%config InlineBackend.figure_format = 'retina'"
   ]
  },
  {
   "cell_type": "markdown",
   "metadata": {},
   "source": [
    "Plot styling:"
   ]
  },
  {
   "cell_type": "code",
   "execution_count": null,
   "metadata": {},
   "outputs": [],
   "source": [
    "plt.rcParams[\"figure.figsize\"] = (20,7)\n",
    "plt.rcParams.update({'font.size': 22})"
   ]
  },
  {
   "cell_type": "code",
   "execution_count": null,
   "metadata": {},
   "outputs": [],
   "source": [
    "from matplotlib import rc\n",
    "# plt.rcParams['font.family'] = 'sans-serif'\n",
    "# plt.rcParams['font.sans-serif'] = ['Helvetica']\n",
    "rc('text.latex', preamble=r'\\usepackage{tgheros} \\usepackage{newtxsf} \\renewcommand{\\familydefault}{\\sfdefault} \\usepackage{mathastext}') #sets the font via latex preamble—only way to autoset tick labels?"
   ]
  },
  {
   "cell_type": "code",
   "execution_count": null,
   "metadata": {},
   "outputs": [],
   "source": [
    "#display all columns\n",
    "pd.set_option('display.max_columns', None)\n",
    "pd.set_option('display.width', 20)\n",
    "pd.set_option('display.max_colwidth', 100)\n",
    "pd.set_option('display.min_rows', 6)"
   ]
  },
  {
   "cell_type": "code",
   "execution_count": null,
   "metadata": {},
   "outputs": [],
   "source": [
    "#helper function for pd.agg\n",
    "def item(x):\n",
    "    return x.tail(1).item()"
   ]
  },
  {
   "cell_type": "markdown",
   "metadata": {},
   "source": [
    "Let's load the results of the experiment"
   ]
  },
  {
   "cell_type": "code",
   "execution_count": null,
   "metadata": {},
   "outputs": [],
   "source": [
    "df_paths = ['subgoal planning full BFS2.pkl',\n",
    "'subgoal planning full bogo.pkl',\n",
    "'subgoal planning full BFS1.pkl']"
   ]
  },
  {
   "cell_type": "code",
   "execution_count": null,
   "metadata": {},
   "outputs": [],
   "source": [
    "df_paths = ['subgoal planning full BFS0 to 2 small.pkl']"
   ]
  },
  {
   "cell_type": "code",
   "execution_count": null,
   "metadata": {},
   "outputs": [],
   "source": [
    "df_paths = ['simulated lookaheads tiny.pkl']"
   ]
  },
  {
   "cell_type": "code",
   "execution_count": null,
   "metadata": {
    "ExecuteTime": {
     "end_time": "2020-07-11T08:47:18.277305Z",
     "start_time": "2020-07-11T08:47:15.386871Z"
    }
   },
   "outputs": [],
   "source": [
    "#load all experiments as one dataframe\n",
    "# df = pd.concat([pd.read_pickle(os.path.join(df_dir,l)) for l in df_paths])\n",
    "print(\"Loaded dataframe\")"
   ]
  },
  {
   "cell_type": "code",
   "execution_count": null,
   "metadata": {},
   "outputs": [],
   "source": [
    "#alternatively, choose csv\n",
    "df_paths = ['simulated lookaheads BFS2.csv']"
   ]
  },
  {
   "cell_type": "code",
   "execution_count": null,
   "metadata": {},
   "outputs": [],
   "source": [
    "#load all experiments as one dataframe from CSV\n",
    "df = pd.concat([pd.read_csv(os.path.join(df_dir,l)) for l in df_paths])\n",
    "print(\"Loaded dataframe\")"
   ]
  },
  {
   "cell_type": "markdown",
   "metadata": {},
   "source": [
    "Manually add agent labels to dataframe"
   ]
  },
  {
   "cell_type": "code",
   "execution_count": null,
   "metadata": {},
   "outputs": [],
   "source": [
    "#TBD"
   ]
  },
  {
   "cell_type": "markdown",
   "metadata": {},
   "source": [
    "Let's choose just one parent agent to make it easier to interpret"
   ]
  },
  {
   "cell_type": "code",
   "execution_count": null,
   "metadata": {},
   "outputs": [],
   "source": [
    "oneadf = df[(df['parent: lower level: horizon'] == 2) & (df['parent: lower level: scoring_function'] == 'F1_stability_score') & (df['include_subsequences'] == False)]"
   ]
  },
  {
   "cell_type": "markdown",
   "metadata": {},
   "source": [
    "creating `fdf` with only outcomes"
   ]
  },
  {
   "cell_type": "code",
   "execution_count": null,
   "metadata": {},
   "outputs": [],
   "source": [
    "# function for 95CI\n",
    "def CI95(data):\n",
    "    return st.t.interval(alpha=0.95,df=len(data)-1,loc=np.mean(data),scale=st.sem(data))"
   ]
  },
  {
   "cell_type": "code",
   "execution_count": null,
   "metadata": {},
   "outputs": [],
   "source": [
    "fdf = oneadf.groupby('run_ID').agg({\n",
    "    'agent_label' : item,\n",
    "    'world' : item,\n",
    "    'c_weight' : item,\n",
    "    'sequence_length' : item,\n",
    "    'include_subsequences' : item,\n",
    "    'parent: lower level: agent_type' : item,\n",
    "    'parent: lower level: scoring_function' : item,\n",
    "    'parent: lower level: horizon' : item,\n",
    "    'partial_planning_cost':['sum','mean',np.std],\n",
    "    'partial_solution_cost':['sum','mean',np.std],\n",
    "    'planning_cost':['sum','mean',np.std],\n",
    "    'solution_cost':['sum','mean',np.std],\n",
    "    'all_sequences_planning_cost':['sum','mean',np.std], #includes penalty and therefore is meaningless\n",
    "    'world_status' : lambda x:x.tail(1).item(),\n",
    "    'decomposed_silhouette' : 'count' #how many subgoals did we act out? With stepsize of 1 number of subgoals chosen\n",
    "})\n",
    "\n",
    "#flatten the dataframe to remove multi-index for next groupby\n",
    "fdf.columns = [' '.join(col).strip() for col in fdf.columns.values]\n",
    "fdf.reset_index(inplace=True)"
   ]
  },
  {
   "cell_type": "code",
   "execution_count": null,
   "metadata": {},
   "outputs": [],
   "source": [
    "#how many wins do we have?\n",
    "fdf['world_status <lambda>'].value_counts()"
   ]
  },
  {
   "cell_type": "code",
   "execution_count": null,
   "metadata": {},
   "outputs": [],
   "source": [
    "# condition on winning solving the world\n",
    "wfdf = fdf[fdf['world_status <lambda>'] == 'Win']"
   ]
  },
  {
   "cell_type": "markdown",
   "metadata": {},
   "source": [
    "## Sequence length"
   ]
  },
  {
   "cell_type": "code",
   "execution_count": null,
   "metadata": {},
   "outputs": [],
   "source": [
    "length_df = wfdf.groupby('sequence_length item').agg({\n",
    "    'world_status <lambda>' : lambda x:len([r for r in x if r == 'Win'])/len(x),\n",
    "     'partial_planning_cost sum':['mean',CI95],\n",
    "     'partial_solution_cost sum':['mean',CI95],\n",
    "     'partial_solution_cost mean':['mean',CI95],\n",
    "     'planning_cost sum':['mean',CI95],\n",
    "     'planning_cost mean':['mean',CI95],\n",
    "#      'solution_cost':'mean', #includes penalty and therefore is meaningless\n",
    "     'all_sequences_planning_cost sum':['mean',CI95],\n",
    "     'all_sequences_planning_cost mean':['mean',CI95],\n",
    "     'decomposed_silhouette count' : ['mean',CI95]\n",
    "})"
   ]
  },
  {
   "cell_type": "code",
   "execution_count": null,
   "metadata": {},
   "outputs": [],
   "source": [
    "length_df"
   ]
  },
  {
   "cell_type": "code",
   "execution_count": null,
   "metadata": {},
   "outputs": [],
   "source": [
    "np.array([abs(Ys - CI95s[0]),abs(Ys - CI95s[1])])"
   ]
  },
  {
   "cell_type": "code",
   "execution_count": null,
   "metadata": {},
   "outputs": [],
   "source": [
    "plt.bar(length_df.index,length_df['world_status <lambda>']['<lambda>'])\n",
    "plt.title(\"Proportion perfect reconstruction\")\n",
    "plt.ylabel(\"Proportion perfect reconstruction\")\n",
    "plt.xlabel(\"Sequence length\")\n",
    "plt.show()\n",
    "\n",
    "Ys = length_df['all_sequences_planning_cost sum']['mean']\n",
    "CI95s = np.array([list(x) for x in length_df['all_sequences_planning_cost sum']['CI95']]).T\n",
    "plt.bar(length_df.index,Ys,yerr=np.array([abs(Ys - CI95s[0]),abs(Ys - CI95s[1])]))\n",
    "plt.title(\"Mean sum total planning cost over all sequences\")\n",
    "plt.ylabel(\"States evaluated\")\n",
    "plt.xlabel(\"Sequence length\")\n",
    "plt.show()\n",
    "\n",
    "Ys = length_df['all_sequences_planning_cost mean']['mean']\n",
    "CI95s = np.array([list(x) for x in length_df['all_sequences_planning_cost mean']['CI95']]).T\n",
    "plt.bar(length_df.index,Ys,yerr=np.array([abs(Ys - CI95s[0]),abs(Ys - CI95s[1])]))\n",
    "plt.title(\"Mean mean total planning cost over all sequences\")\n",
    "plt.ylabel(\"States evaluated\")\n",
    "plt.xlabel(\"Sequence length\")\n",
    "plt.show()\n",
    "\n",
    "Ys = length_df['planning_cost sum']['mean']\n",
    "CI95s = np.array([list(x) for x in length_df['planning_cost sum']['CI95']]).T\n",
    "plt.bar(length_df.index,Ys,yerr=np.array([abs(Ys - CI95s[0]),abs(Ys - CI95s[1])]))\n",
    "plt.title(\"Mean sum of planning costs for chosen sequence\")\n",
    "plt.ylabel(\"States evaluated\")\n",
    "plt.xlabel(\"Sequence length\")\n",
    "plt.show()\n",
    "\n",
    "Ys = length_df['planning_cost mean']['mean']\n",
    "CI95s = np.array([list(x) for x in length_df['planning_cost mean']['CI95']]).T\n",
    "plt.bar(length_df.index,Ys,yerr=np.array([abs(Ys - CI95s[0]),abs(Ys - CI95s[1])]))\n",
    "plt.title(\"Mean mean of planning costs for chosen sequence\")\n",
    "plt.ylabel(\"States evaluated\")\n",
    "plt.xlabel(\"Sequence length\")\n",
    "plt.show()\n",
    "\n",
    "Ys = length_df['partial_solution_cost mean']['mean']\n",
    "CI95s = np.array([list(x) for x in length_df['partial_solution_cost mean']['CI95']]).T\n",
    "plt.bar(length_df.index,Ys,yerr=np.array([abs(Ys - CI95s[0]),abs(Ys - CI95s[1])]))\n",
    "plt.title(\"Mean solution cost\")\n",
    "plt.ylabel(\"States evaluated\")\n",
    "plt.xlabel(\"Sequence length\")\n",
    "plt.show()\n",
    "\n",
    "Ys = length_df['decomposed_silhouette count']['mean']\n",
    "CI95s = np.array([list(x) for x in length_df['decomposed_silhouette count']['CI95']]).T\n",
    "plt.bar(length_df.index,Ys,yerr=np.array([abs(Ys - CI95s[0]),abs(Ys - CI95s[1])]))\n",
    "plt.title(\"Mean number of subgoals\")\n",
    "plt.ylabel(\"Number of subgoals acted out\")\n",
    "plt.xlabel(\"Sequence length\")\n",
    "plt.show()\n"
   ]
  },
  {
   "cell_type": "markdown",
   "metadata": {},
   "source": [
    "---"
   ]
  },
  {
   "cell_type": "markdown",
   "metadata": {},
   "source": [
    "## $\\lambda$"
   ]
  },
  {
   "cell_type": "code",
   "execution_count": null,
   "metadata": {},
   "outputs": [],
   "source": [
    "cw_df = wfdf.groupby(['sequence_length item','c_weight item']).agg({\n",
    "    'world_status <lambda>' : lambda x:len([r for r in x if r == 'Win'])/len(x),\n",
    "     'partial_planning_cost sum':['mean',CI95],\n",
    "     'partial_solution_cost sum':['mean',CI95],\n",
    "     'partial_solution_cost mean':['mean',CI95],\n",
    "     'planning_cost sum':['mean',CI95],\n",
    "     'planning_cost mean':['mean',CI95],\n",
    "#      'solution_cost':'mean', #includes penalty and therefore is meaningless\n",
    "     'all_sequences_planning_cost sum':['mean',CI95],\n",
    "         'all_sequences_planning_cost mean':['mean',CI95],\n",
    "    'decomposed_silhouette count' : ['mean',CI95]\n",
    "})"
   ]
  },
  {
   "cell_type": "code",
   "execution_count": null,
   "metadata": {},
   "outputs": [],
   "source": [
    "cw_df"
   ]
  },
  {
   "cell_type": "code",
   "execution_count": null,
   "metadata": {},
   "outputs": [],
   "source": [
    "for index in cw_df.index.get_level_values(0).unique():\n",
    "    plt.plot(cw_df['world_status <lambda>']['<lambda>'][index],label=index)\n",
    "    plt.title(\"Proportion perfect reconstruction\")\n",
    "    plt.ylabel(\"Proportion perfect reconstruction\")\n",
    "    plt.xlabel(\"$\\lambda$\")\n",
    "    plt.legend()\n",
    "plt.show()\n",
    "\n",
    "for index in cw_df.index.get_level_values(0).unique():\n",
    "    column = 'all_sequences_planning_cost sum'\n",
    "    CIs = np.array([list(x) for x in cw_df[column]['CI95'][index]]).T\n",
    "    Xs = cw_df[column]['mean'][index].index\n",
    "    Ys = cw_df[column]['mean'][index]\n",
    "    Error = np.array([Ys - CIs[0],Ys + CIs[1]])\n",
    "    plt.errorbar(Xs,\n",
    "                 Ys,\n",
    "#                  yerr=Error,\n",
    "                 label=index)\n",
    "    plt.fill_between(Xs, CIs[0], CIs[1],alpha=0.3)\n",
    "    plt.title(\"Mean sum total planning cost over all sequences\")\n",
    "    plt.ylabel(\"States evaluated\")\n",
    "    plt.xlabel(\"$\\lambda$\")\n",
    "    plt.legend()\n",
    "plt.show()\n",
    "\n",
    "for index in cw_df.index.get_level_values(0).unique():\n",
    "    column = 'all_sequences_planning_cost mean'\n",
    "    CIs = np.array([list(x) for x in cw_df[column]['CI95'][index]]).T\n",
    "    Xs = cw_df[column]['mean'][index].index\n",
    "    Ys = cw_df[column]['mean'][index]\n",
    "    Error = np.array([Ys - CIs[0],Ys + CIs[1]])\n",
    "    plt.errorbar(Xs,\n",
    "                 Ys,\n",
    "#                  yerr=Error,\n",
    "                 label=index)\n",
    "    plt.fill_between(Xs, CIs[0], CIs[1],alpha=0.3)\n",
    "    plt.title(\"Mean mean total planning cost over all sequences\")\n",
    "    plt.ylabel(\"States evaluated\")\n",
    "    plt.xlabel(\"$\\lambda$\")\n",
    "    plt.legend()\n",
    "plt.show()\n",
    "\n",
    "for index in cw_df.index.get_level_values(0).unique():\n",
    "    column = 'partial_planning_cost sum'\n",
    "    CIs = np.array([list(x) for x in cw_df[column]['CI95'][index]]).T\n",
    "    Xs = cw_df[column]['mean'][index].index\n",
    "    Ys = cw_df[column]['mean'][index]\n",
    "    Error = np.array([Ys - CIs[0],Ys + CIs[1]])\n",
    "    plt.errorbar(Xs,\n",
    "                 Ys,\n",
    "#                  yerr=Error,\n",
    "                 label=index)\n",
    "    plt.fill_between(Xs, CIs[0], CIs[1],alpha=0.3)\n",
    "    plt.title(\"Mean sum of partial planning costs for chosen sequence\")\n",
    "    plt.ylabel(\"States evaluated\")\n",
    "    plt.xlabel(\"$\\lambda$\")\n",
    "    plt.legend()\n",
    "plt.show()\n",
    "\n",
    "for index in cw_df.index.get_level_values(0).unique():\n",
    "    column = 'planning_cost sum'\n",
    "    CIs = np.array([list(x) for x in cw_df[column]['CI95'][index]]).T\n",
    "    Xs = cw_df[column]['mean'][index].index\n",
    "    Ys = cw_df[column]['mean'][index]\n",
    "    Error = np.array([Ys - CIs[0],Ys + CIs[1]])\n",
    "    plt.errorbar(Xs,\n",
    "                 Ys,\n",
    "#                  yerr=Error,\n",
    "                 label=index)\n",
    "    plt.fill_between(Xs, CIs[0], CIs[1],alpha=0.3)\n",
    "    plt.title(\"Mean sum of planning costs for chosen sequence\")\n",
    "    plt.ylabel(\"States evaluated\")\n",
    "    plt.xlabel(\"$\\lambda$\")\n",
    "    plt.legend()\n",
    "plt.show()\n",
    "\n",
    "for index in cw_df.index.get_level_values(0).unique():\n",
    "    column = 'partial_solution_cost mean'\n",
    "    CIs = np.array([list(x) for x in cw_df[column]['CI95'][index]]).T\n",
    "    Xs = cw_df[column]['mean'][index].index\n",
    "    Ys = cw_df[column]['mean'][index]\n",
    "    Error = np.array([Ys - CIs[0],Ys + CIs[1]])\n",
    "    plt.errorbar(Xs,\n",
    "                 Ys,\n",
    "#                  yerr=Error,\n",
    "                 label=index)\n",
    "    plt.fill_between(Xs, CIs[0], CIs[1],alpha=0.3)\n",
    "    plt.title(\"Mean solution cost\")\n",
    "    plt.ylabel(\"States evaluated\")\n",
    "    plt.xlabel(\"$\\lambda$\")\n",
    "    plt.legend()\n",
    "plt.show()\n",
    "\n",
    "for index in cw_df.index.get_level_values(0).unique():\n",
    "    column = 'decomposed_silhouette count'\n",
    "    CIs = np.array([list(x) for x in cw_df[column]['CI95'][index]]).T\n",
    "    Xs = cw_df[column]['mean'][index].index\n",
    "    Ys = cw_df[column]['mean'][index]\n",
    "    Error = np.array([Ys - CIs[0],Ys + CIs[1]])\n",
    "    plt.errorbar(Xs,\n",
    "                 Ys,\n",
    "#                  yerr=Error,\n",
    "                 label=index)\n",
    "    plt.fill_between(Xs, CIs[0], CIs[1],alpha=0.3)\n",
    "    plt.title(\"Mean number of subgoals\")\n",
    "    plt.ylabel(\"Number of subgoals acted out\")\n",
    "    plt.xlabel(\"$\\lambda$\")\n",
    "    plt.legend()\n",
    "plt.show()\n",
    "\n"
   ]
  },
  {
   "cell_type": "markdown",
   "metadata": {},
   "source": [
    "---"
   ]
  },
  {
   "cell_type": "markdown",
   "metadata": {},
   "source": [
    "## Sandgraph! 🏝"
   ]
  },
  {
   "cell_type": "markdown",
   "metadata": {},
   "source": [
    "Since loading the pickled data takes too long, we sketchily recreate the names from the string of the decomposition"
   ]
  },
  {
   "cell_type": "code",
   "execution_count": null,
   "metadata": {},
   "outputs": [],
   "source": [
    "import re\n",
    "import ast\n",
    "def str2array(s):\n",
    "    #strip \"array\" and parentheses\n",
    "    s=re.sub('\\[array\\(', '', s.strip())\n",
    "    s=re.sub('\\)]', '', s.strip())\n",
    "    # Remove space after [\n",
    "    s=re.sub('\\[ +', '[', s.strip())\n",
    "    # Replace commas and spaces\n",
    "    s=re.sub('[,\\s]+', ', ', s)\n",
    "    return np.array(ast.literal_eval(s))"
   ]
  },
  {
   "cell_type": "code",
   "execution_count": null,
   "metadata": {},
   "outputs": [],
   "source": [
    "from matplotlib.patches import Rectangle\n",
    "from matplotlib import cm"
   ]
  },
  {
   "cell_type": "code",
   "execution_count": null,
   "metadata": {},
   "outputs": [],
   "source": [
    "cmap = cm.viridis.colors\n",
    "def get_color(index,max=8):\n",
    "    return cmap[round(index/max * (len(cmap)-1))]"
   ]
  },
  {
   "cell_type": "markdown",
   "metadata": {},
   "source": [
    "Let's plot"
   ]
  },
  {
   "cell_type": "code",
   "execution_count": null,
   "metadata": {},
   "outputs": [],
   "source": [
    "#lambda first\n",
    "\n",
    "lambda_sorted_oneadf = oneadf.sort_values(['c_weight','world']) #sorted by lambda and world\n",
    "# lambda_sorted_oneadf = oneadf.sort_values(['world','c_weight']) #sorted by lambda and world\n",
    "\n",
    "for las in lambda_sorted_oneadf['sequence_length'].unique():\n",
    "    #get names\n",
    "    names = []\n",
    "    for run in lambda_sorted_oneadf.query('sequence_length == @las').groupby('run_ID',sort=False):\n",
    "        silhouettes = run[1]['decomposed_silhouette'].dropna()\n",
    "        _names = [np.sum(str2array(s).sum(axis=1) != 0) for s in silhouettes]\n",
    "        names.append(_names)\n",
    "#         print(run[1]['c_weight'].head(1).item(),run[1]['world'].head(1).item())\n",
    "    # plot the sand graph\n",
    "    plt.plot()\n",
    "    for x,n in enumerate(names):\n",
    "        for i,g in enumerate(reversed(n)):\n",
    "            plt.gca().add_patch(Rectangle((x,0),1,g, facecolor = get_color(len(n) - i)))\n",
    "    plt.title(\"Lookahead: \"+str(round(las-1,0)))\n",
    "    plt.xlabel(\"Iteration sorted by $\\lambda$\")\n",
    "    # add back lambda ticks\n",
    "    lambdas = list(lambda_sorted_oneadf['c_weight'].unique())\n",
    "    plt.xticks(np.linspace(0,len(names),len(lambdas) + 1), lambdas+[\"\"]) #assuming we have equally many observations for each lambda\n",
    "    plt.ylabel(\"Vertical location of subgoal\")\n",
    "    plt.show()"
   ]
  },
  {
   "cell_type": "code",
   "execution_count": null,
   "metadata": {},
   "outputs": [],
   "source": [
    "#world first\n",
    "\n",
    "lambda_sorted_oneadf = oneadf.sort_values(['world','c_weight']) #sorted by lambda and world\n",
    "\n",
    "for las in lambda_sorted_oneadf['sequence_length'].unique():\n",
    "    #get names\n",
    "    names = []\n",
    "    worlds = []\n",
    "    for run in lambda_sorted_oneadf.query('sequence_length == @las').groupby('run_ID',sort=False):\n",
    "        silhouettes = run[1]['decomposed_silhouette'].dropna()\n",
    "        _names = [np.sum(str2array(s).sum(axis=1) != 0) for s in silhouettes]\n",
    "        names.append(_names)\n",
    "        worlds.append(run[1]['world'].head(1).item())\n",
    "#         print(run[1]['c_weight'].head(1).item(),run[1]['world'].head(1).item())\n",
    "    # plot the sand graph\n",
    "    plt.plot()\n",
    "    last_world = worlds[0]\n",
    "    for x,n in enumerate(names):\n",
    "        for i,g in enumerate(reversed(n)):\n",
    "            plt.gca().add_patch(Rectangle((x,0),1,g, facecolor = get_color(len(n) - i)))\n",
    "        # draw world demarkator\n",
    "        if worlds[x] != last_world:         \n",
    "                        plt.gca().add_patch(Rectangle((x,-.2),len(names)/256,8.4, facecolor = \"grey\"))\n",
    "        last_world = worlds[x]\n",
    "    plt.title(\"Lookahead: \"+str(round(las-1,0)))\n",
    "#     plt.xlabel(\"Iteration sorted by $\\lambda$\")\n",
    "    # add back lambda ticks\n",
    "    lambdas = list(lambda_sorted_oneadf['c_weight'].unique())\n",
    "#     plt.xticks(np.linspace(0,len(names),len(lambdas) + 1), lambdas+[\"\"]) #assuming we have equally many observations for each lambda\n",
    "    plt.ylabel(\"Vertical location of subgoal\")\n",
    "    plt.show()"
   ]
  },
  {
   "cell_type": "code",
   "execution_count": null,
   "metadata": {},
   "outputs": [],
   "source": [
    "\n"
   ]
  },
  {
   "cell_type": "code",
   "execution_count": null,
   "metadata": {},
   "outputs": [],
   "source": []
  },
  {
   "cell_type": "code",
   "execution_count": null,
   "metadata": {},
   "outputs": [],
   "source": []
  },
  {
   "cell_type": "code",
   "execution_count": null,
   "metadata": {},
   "outputs": [],
   "source": []
  },
  {
   "cell_type": "code",
   "execution_count": null,
   "metadata": {},
   "outputs": [],
   "source": []
  },
  {
   "cell_type": "code",
   "execution_count": null,
   "metadata": {},
   "outputs": [],
   "source": []
  }
 ],
 "metadata": {
  "kernelspec": {
   "display_name": "Python [conda env:tools_bc]",
   "language": "python",
   "name": "conda-env-tools_bc-py"
  },
  "language_info": {
   "codemirror_mode": {
    "name": "ipython",
    "version": 3
   },
   "file_extension": ".py",
   "mimetype": "text/x-python",
   "name": "python",
   "nbconvert_exporter": "python",
   "pygments_lexer": "ipython3",
   "version": "3.6.9"
  }
 },
 "nbformat": 4,
 "nbformat_minor": 4
}
