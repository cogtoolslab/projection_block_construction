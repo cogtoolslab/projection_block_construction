{
 "cells": [
  {
   "cell_type": "markdown",
   "metadata": {},
   "source": [
    "# Subgoal sequences\n",
    "This file analysis differences between different subgoal sequences."
   ]
  },
  {
   "cell_type": "code",
   "execution_count": null,
   "metadata": {},
   "outputs": [],
   "source": [
    "# set up imports\n",
    "import os\n",
    "import sys\n",
    "__file__ = os.getcwd()\n",
    "proj_dir =  os.path.dirname(os.path.realpath(__file__))\n",
    "sys.path.append(proj_dir)\n",
    "utils_dir = os.path.join(proj_dir,'utils')\n",
    "sys.path.append(utils_dir)\n",
    "analysis_dir = os.path.join(proj_dir,'analysis')\n",
    "analysis_utils_dir = os.path.join(analysis_dir,'utils')\n",
    "sys.path.append(analysis_utils_dir)\n",
    "agent_dir = os.path.join(proj_dir,'model')\n",
    "sys.path.append(agent_dir)\n",
    "agent_util_dir = os.path.join(agent_dir,'utils')\n",
    "sys.path.append(agent_util_dir)\n",
    "experiments_dir = os.path.join(proj_dir,'experiments')\n",
    "sys.path.append(experiments_dir)\n",
    "df_dir = os.path.join(proj_dir,'results/dataframes')"
   ]
  },
  {
   "cell_type": "code",
   "execution_count": null,
   "metadata": {},
   "outputs": [],
   "source": [
    "from model.Subgoal_Planning_Agent import *\n",
    "import utils.blockworld as bw\n",
    "import utils.blockworld_library as bl\n",
    "\n",
    "import numpy as np\n",
    "import pandas as pd\n",
    "import matplotlib.pyplot as plt"
   ]
  },
  {
   "cell_type": "code",
   "execution_count": null,
   "metadata": {},
   "outputs": [],
   "source": [
    "import model.utils.decomposition_functions"
   ]
  },
  {
   "cell_type": "code",
   "execution_count": null,
   "metadata": {},
   "outputs": [],
   "source": [
    "#inline plots\n",
    "%matplotlib inline\n",
    "%config InlineBackend.figure_format = 'retina'"
   ]
  },
  {
   "cell_type": "code",
   "execution_count": null,
   "metadata": {},
   "outputs": [],
   "source": [
    "plt.rcParams[\"figure.figsize\"] = (20,7)\n",
    "plt.rcParams.update({'font.size': 22})"
   ]
  },
  {
   "cell_type": "code",
   "execution_count": null,
   "metadata": {},
   "outputs": [],
   "source": [
    "#display all columns\n",
    "pd.set_option('display.max_columns', None)\n",
    "pd.set_option('display.width', 20)\n",
    "pd.set_option('display.max_colwidth', 100)\n",
    "pd.set_option('display.min_rows', 6)"
   ]
  },
  {
   "cell_type": "code",
   "execution_count": null,
   "metadata": {},
   "outputs": [],
   "source": [
    "#helper function for pd.agg\n",
    "def item(x):\n",
    "    return x.tail(1).item()"
   ]
  },
  {
   "cell_type": "markdown",
   "metadata": {},
   "source": [
    "Let's load the results of the experiment"
   ]
  },
  {
   "cell_type": "code",
   "execution_count": null,
   "metadata": {},
   "outputs": [],
   "source": [
    "df_paths = ['subgoal planning full BFS2.pkl',\n",
    "'subgoal planning full bogo.pkl',\n",
    "'subgoal planning full BFS1.pkl']"
   ]
  },
  {
   "cell_type": "code",
   "execution_count": null,
   "metadata": {},
   "outputs": [],
   "source": [
    "df_paths = ['subgoal planning full BFS0 to 2 small.pkl']"
   ]
  },
  {
   "cell_type": "code",
   "execution_count": null,
   "metadata": {},
   "outputs": [],
   "source": [
    "df_paths = ['simulated lookaheads tiny.pkl']"
   ]
  },
  {
   "cell_type": "code",
   "execution_count": null,
   "metadata": {
    "ExecuteTime": {
     "end_time": "2020-07-11T08:47:18.277305Z",
     "start_time": "2020-07-11T08:47:15.386871Z"
    }
   },
   "outputs": [],
   "source": [
    "#load all experiments as one dataframe\n",
    "df = pd.concat([pd.read_pickle(os.path.join(df_dir,l)) for l in df_paths])\n",
    "print(\"Loaded dataframe\")"
   ]
  },
  {
   "cell_type": "code",
   "execution_count": null,
   "metadata": {},
   "outputs": [],
   "source": [
    "#alternatively, choose csv\n",
    "df_paths = ['simulated lookaheads tiny.csv']"
   ]
  },
  {
   "cell_type": "code",
   "execution_count": null,
   "metadata": {},
   "outputs": [],
   "source": [
    "#load all experiments as one dataframe from CSV\n",
    "df = pd.concat([pd.read_csv(os.path.join(df_dir,l)) for l in df_paths])\n",
    "print(\"Loaded dataframe\")"
   ]
  },
  {
   "cell_type": "markdown",
   "metadata": {},
   "source": [
    "Let's choose just one agent to make it easier to interpret"
   ]
  },
  {
   "cell_type": "code",
   "execution_count": null,
   "metadata": {},
   "outputs": [],
   "source": [
    "oneadf = df[df['parent: lower level: horizon'] == 2]"
   ]
  },
  {
   "cell_type": "code",
   "execution_count": null,
   "metadata": {},
   "outputs": [],
   "source": [
    "oneadf"
   ]
  },
  {
   "cell_type": "markdown",
   "metadata": {},
   "source": [
    "creating `fdf` with only outcomes"
   ]
  },
  {
   "cell_type": "code",
   "execution_count": null,
   "metadata": {},
   "outputs": [],
   "source": [
    "fdf = oneadf.groupby('run_ID').agg({\n",
    "    'agent_label' : item,\n",
    "    'world' : item,\n",
    "    'c_weight' : item,\n",
    "    'sequence_length' : item,\n",
    "    'include_subsequences' : item,\n",
    "    'parent: lower level: agent_type' : item,\n",
    "    'parent: lower level: scoring_function' : item,\n",
    "    'parent: lower level: horizon' : item,\n",
    "    'partial_planning_cost':['sum','mean',np.std],\n",
    "    'partial_solution_cost':['sum','mean',np.std],\n",
    "    'planning_cost':['sum','mean',np.std],\n",
    "    'solution_cost':['sum','mean',np.std],\n",
    "    'all_sequences_planning_cost':['sum','mean',np.std], #includes penalty and therefore is meaningless\n",
    "    'world_status' : lambda x:x.tail(1).item(),\n",
    "    'decomposed_silhouette' : 'count' #how many subgoals did we act out? With stepsize of 1 number of subgoals chosen\n",
    "})\n",
    "\n",
    "#flatten the dataframe to remove multi-index for next groupby\n",
    "fdf.columns = [' '.join(col).strip() for col in fdf.columns.values]\n",
    "fdf.reset_index(inplace=True)"
   ]
  },
  {
   "cell_type": "code",
   "execution_count": null,
   "metadata": {
    "tags": []
   },
   "outputs": [],
   "source": [
    "fdf"
   ]
  },
  {
   "cell_type": "markdown",
   "metadata": {},
   "source": [
    "Let's look at the effect of sequence length"
   ]
  },
  {
   "cell_type": "code",
   "execution_count": null,
   "metadata": {},
   "outputs": [],
   "source": [
    "length_df = fdf.groupby('sequence_length item').agg({\n",
    "    'world_status <lambda>' : lambda x:len([r for r in x if r == 'Win'])/len(x),\n",
    "     'partial_planning_cost sum':'mean',\n",
    "     'partial_solution_cost sum':'mean',\n",
    "     'partial_solution_cost mean':'mean',\n",
    "     'planning_cost sum':'mean',\n",
    "     'planning_cost mean':'mean',\n",
    "#      'solution_cost':'mean', #includes penalty and therefore is meaningless\n",
    "     'all_sequences_planning_cost sum':'mean',\n",
    "     'all_sequences_planning_cost mean':'mean',\n",
    "     'decomposed_silhouette count' : 'mean'\n",
    "})"
   ]
  },
  {
   "cell_type": "code",
   "execution_count": null,
   "metadata": {},
   "outputs": [],
   "source": [
    "length_df"
   ]
  },
  {
   "cell_type": "code",
   "execution_count": null,
   "metadata": {},
   "outputs": [],
   "source": [
    "plt.bar(length_df.index,length_df['world_status <lambda>'])\n",
    "plt.title(\"Proportion perfect reconstruction\")\n",
    "plt.ylabel(\"Proportion perfect reconstruction\")\n",
    "plt.xlabel(\"Sequence length\")\n",
    "plt.show()\n",
    "\n",
    "plt.bar(length_df.index,length_df['all_sequences_planning_cost sum'])\n",
    "plt.title(\"Mean sum total planning cost over all sequences\")\n",
    "plt.ylabel(\"States evaluated\")\n",
    "plt.xlabel(\"Sequence length\")\n",
    "plt.show()\n",
    "\n",
    "plt.bar(length_df.index,length_df['all_sequences_planning_cost mean'])\n",
    "plt.title(\"Mean mean total planning cost over all sequences\")\n",
    "plt.ylabel(\"States evaluated\")\n",
    "plt.xlabel(\"Sequence length\")\n",
    "plt.show()\n",
    "\n",
    "plt.bar(length_df.index,length_df['planning_cost sum'])\n",
    "plt.title(\"Mean sum of planning costs for chosen sequence\")\n",
    "plt.ylabel(\"States evaluated\")\n",
    "plt.xlabel(\"Sequence length\")\n",
    "plt.show()\n",
    "\n",
    "plt.bar(length_df.index,length_df['planning_cost mean'])\n",
    "plt.title(\"Mean mean of planning costs for chosen sequence\")\n",
    "plt.ylabel(\"States evaluated\")\n",
    "plt.xlabel(\"Sequence length\")\n",
    "plt.show()\n",
    "\n",
    "plt.bar(length_df.index,length_df['partial_solution_cost mean'])\n",
    "plt.title(\"Mean solution cost\")\n",
    "plt.ylabel(\"States evaluated\")\n",
    "plt.xlabel(\"Sequence length\")\n",
    "plt.show()\n",
    "\n",
    "plt.bar(length_df.index,length_df['decomposed_silhouette count'])\n",
    "plt.title(\"Mean number of subgoals\")\n",
    "plt.ylabel(\"Number of subgoals acted out\")\n",
    "plt.xlabel(\"Sequence length\")\n",
    "plt.show()\n",
    "\n",
    "plt.bar(length_df.index,length_df['partial_solution_cost mean'] / (1/length_df['decomposed_silhouette count']))\n",
    "plt.title(\"Solution cost normalized by number of subgoals acted out\")\n",
    "plt.ylabel(\"Cost / (1/# subgoals)\")\n",
    "plt.xlabel(\"Sequence length\")\n",
    "plt.show()"
   ]
  },
  {
   "cell_type": "code",
   "execution_count": null,
   "metadata": {},
   "outputs": [],
   "source": []
  },
  {
   "cell_type": "markdown",
   "metadata": {},
   "source": [
    "Let's look at c_weight"
   ]
  },
  {
   "cell_type": "code",
   "execution_count": null,
   "metadata": {},
   "outputs": [],
   "source": []
  },
  {
   "cell_type": "code",
   "execution_count": null,
   "metadata": {},
   "outputs": [],
   "source": [
    "cw_df = fdf.groupby('c_weight item').agg({\n",
    "    'world_status <lambda>' : lambda x:len([r for r in x if r == 'Win'])/len(x),\n",
    "     'partial_planning_cost sum':'mean',\n",
    "     'partial_solution_cost sum':'mean',\n",
    "     'partial_solution_cost mean':'mean',\n",
    "     'planning_cost sum':'mean',\n",
    "     'planning_cost mean':'mean',\n",
    "#      'solution_cost':'mean', #includes penalty and therefore is meaningless\n",
    "     'all_sequences_planning_cost sum':'mean',\n",
    "         'all_sequences_planning_cost mean':'mean',\n",
    "    'decomposed_silhouette count' : 'mean'\n",
    "})"
   ]
  },
  {
   "cell_type": "code",
   "execution_count": null,
   "metadata": {},
   "outputs": [],
   "source": [
    "cw_df"
   ]
  },
  {
   "cell_type": "code",
   "execution_count": null,
   "metadata": {},
   "outputs": [],
   "source": [
    "plt.plot(cw_df.index,cw_df['world_status <lambda>'])\n",
    "plt.title(\"Proportion perfect reconstruction\")\n",
    "plt.ylabel(\"Proportion perfect reconstruction\")\n",
    "plt.xlabel(\"$\\lambda$\")\n",
    "plt.show()\n",
    "\n",
    "plt.plot(cw_df.index,cw_df['all_sequences_planning_cost sum'])\n",
    "plt.title(\"Mean sum total planning cost over all sequences\")\n",
    "plt.ylabel(\"States evaluated\")\n",
    "plt.xlabel(\"$\\lambda$\")\n",
    "plt.show()\n",
    "\n",
    "plt.plot(cw_df.index,cw_df['all_sequences_planning_cost mean'])\n",
    "plt.title(\"Mean mean total planning cost over all sequences\")\n",
    "plt.ylabel(\"States evaluated\")\n",
    "plt.xlabel(\"$\\lambda$\")\n",
    "plt.show()\n",
    "\n",
    "plt.plot(cw_df.index,cw_df['partial_planning_cost sum'])\n",
    "plt.title(\"Mean sum of partial planning costs for chosen sequence\")\n",
    "plt.ylabel(\"States evaluated\")\n",
    "plt.xlabel(\"$\\lambda$\")\n",
    "plt.show()\n",
    "\n",
    "plt.plot(cw_df.index,cw_df['planning_cost sum'])\n",
    "plt.title(\"Mean sum of planning costs for chosen sequence\")\n",
    "plt.ylabel(\"States evaluated\")\n",
    "plt.xlabel(\"$\\lambda$\")\n",
    "plt.show()\n",
    "\n",
    "plt.plot(cw_df.index,cw_df['partial_solution_cost mean'])\n",
    "plt.title(\"Mean solution cost\")\n",
    "plt.ylabel(\"States evaluated\")\n",
    "plt.xlabel(\"$\\lambda$\")\n",
    "plt.show()\n",
    "\n",
    "plt.plot(cw_df.index,cw_df['decomposed_silhouette count'])\n",
    "plt.title(\"Mean number of subgoals\")\n",
    "plt.ylabel(\"Number of subgoals acted out\")\n",
    "plt.xlabel(\"$\\lambda$\")\n",
    "plt.show()\n",
    "\n",
    "plt.plot(cw_df.index,cw_df['partial_solution_cost mean'] / (1/cw_df['decomposed_silhouette count']))\n",
    "plt.title(\"Solution cost normalized by number of subgoals acted out\")\n",
    "plt.ylabel(\"Cost / (1/# subgoals)\")\n",
    "plt.xlabel(\"$\\lambda$\")\n",
    "plt.show()\n",
    "\n"
   ]
  },
  {
   "cell_type": "code",
   "execution_count": null,
   "metadata": {},
   "outputs": [],
   "source": []
  },
  {
   "cell_type": "markdown",
   "metadata": {},
   "source": [
    "lets group by agent and the make a big scatter plot :)"
   ]
  },
  {
   "cell_type": "code",
   "execution_count": null,
   "metadata": {},
   "outputs": [],
   "source": [
    "a_df = fdf.groupby('agent_label item').agg({\n",
    "    'world_status <lambda>' : lambda x:len([r for r in x if r == 'Win'])/len(x),\n",
    "     'partial_planning_cost sum':'mean',\n",
    "     'partial_solution_cost sum':'mean',\n",
    "     'partial_solution_cost mean':'mean',\n",
    "     'planning_cost sum':'mean',\n",
    "     'planning_cost mean':'mean',\n",
    "#      'solution_cost':'mean', #includes penalty and therefore is meaningless\n",
    "     'all_sequences_planning_cost sum':'mean',\n",
    "    'decomposed_silhouette count' : 'mean',\n",
    "    'c_weight item' : item\n",
    "})"
   ]
  },
  {
   "cell_type": "code",
   "execution_count": null,
   "metadata": {},
   "outputs": [],
   "source": [
    "plt.scatter(a_df['all_sequences_planning_cost sum'],a_df['partial_solution_cost sum'],c = a_df['c_weight item'])\n",
    "plt.title(\"Total planning cost vs partial solution cost\")\n",
    "plt.colorbar(label=\"$\\lambda$\")\n",
    "plt.xlabel(\"Total planninng cost\")\n",
    "plt.ylabel(\"Partial solution cost\")"
   ]
  },
  {
   "cell_type": "code",
   "execution_count": null,
   "metadata": {},
   "outputs": [],
   "source": [
    "plt.scatter(a_df['decomposed_silhouette count'],a_df['planning_cost sum'],c = a_df['c_weight item'])\n",
    "plt.title(\"Number of actual subgoals vs planning cost\")\n",
    "plt.colorbar(label=\"$\\lambda$\")\n",
    "plt.xlabel(\"Number of actual subgoals\")\n",
    "plt.ylabel(\"Number of states evaluated\")"
   ]
  },
  {
   "cell_type": "code",
   "execution_count": null,
   "metadata": {},
   "outputs": [],
   "source": [
    "plt.scatter(a_df['decomposed_silhouette count'],a_df['all_sequences_planning_cost sum'],c = a_df['c_weight item'])\n",
    "plt.title(\"Number of actual subgoals vs Total planning cost\")\n",
    "plt.colorbar(label=\"$\\lambda$\")\n",
    "plt.xlabel(\"Number of actual subgoals\")\n",
    "plt.ylabel(\"Total planning cost\")"
   ]
  },
  {
   "cell_type": "code",
   "execution_count": null,
   "metadata": {},
   "outputs": [],
   "source": [
    "plt.scatter(a_df['decomposed_silhouette count'],a_df['partial_solution_cost mean'],c = a_df['c_weight item'])\n",
    "plt.title(\"Number of actual subgoals vs partial solution cost\")\n",
    "plt.colorbar(label=\"$\\lambda$\")\n",
    "plt.xlabel(\"Number of actual subgoals\")\n",
    "plt.ylabel(\"partial solution cost\")"
   ]
  },
  {
   "cell_type": "code",
   "execution_count": null,
   "metadata": {},
   "outputs": [],
   "source": []
  },
  {
   "cell_type": "code",
   "execution_count": null,
   "metadata": {},
   "outputs": [],
   "source": []
  },
  {
   "cell_type": "code",
   "execution_count": null,
   "metadata": {},
   "outputs": [],
   "source": []
  },
  {
   "cell_type": "markdown",
   "metadata": {},
   "source": [
    "## Sandgraph! 🏝"
   ]
  },
  {
   "cell_type": "markdown",
   "metadata": {},
   "source": [
    "Since loading the pickled data takes too long, we sketchily recreate the names from the string of the decomposition"
   ]
  },
  {
   "cell_type": "code",
   "execution_count": null,
   "metadata": {},
   "outputs": [],
   "source": [
    "import re\n",
    "import ast\n",
    "def str2array(s):\n",
    "    #strip \"array\" and parentheses\n",
    "    s=re.sub('\\[array\\(', '', s.strip())\n",
    "    s=re.sub('\\)]', '', s.strip())\n",
    "    # Remove space after [\n",
    "    s=re.sub('\\[ +', '[', s.strip())\n",
    "    # Replace commas and spaces\n",
    "    s=re.sub('[,\\s]+', ', ', s)\n",
    "    return np.array(ast.literal_eval(s))"
   ]
  },
  {
   "cell_type": "code",
   "execution_count": null,
   "metadata": {},
   "outputs": [],
   "source": [
    "names = []\n",
    "for run in oneadf.groupby('run_ID'):\n",
    "    silhouettes = run[1]['decomposed_silhouette'].dropna()\n",
    "    _names = [np.sum(str2array(s).sum(axis=1) != 0) for s in silhouettes]\n",
    "    names.append(_names)"
   ]
  },
  {
   "cell_type": "code",
   "execution_count": null,
   "metadata": {},
   "outputs": [],
   "source": [
    "from matplotlib.patches import Rectangle\n",
    "from matplotlib import cm"
   ]
  },
  {
   "cell_type": "code",
   "execution_count": null,
   "metadata": {},
   "outputs": [],
   "source": [
    "plt.plot()\n",
    "colors = [\"red\",\"orange\",\"yellow\",\"green\",\"blue\",\"purple\",\"grey\",\"black\",\"pink\"]\n",
    "for x,n in enumerate(names):\n",
    "    for i,g in enumerate(reversed(n)):\n",
    "        plt.gca().add_patch(Rectangle((x,0),1,g, facecolor = colors[len(n) - i]))"
   ]
  }
 ],
 "metadata": {
  "kernelspec": {
   "display_name": "Python [conda env:tools_bc]",
   "language": "python",
   "name": "conda-env-tools_bc-py"
  },
  "language_info": {
   "codemirror_mode": {
    "name": "ipython",
    "version": 3
   },
   "file_extension": ".py",
   "mimetype": "text/x-python",
   "name": "python",
   "nbconvert_exporter": "python",
   "pygments_lexer": "ipython3",
   "version": "3.6.9"
  },
  "widgets": {
   "application/vnd.jupyter.widget-state+json": {
    "state": {},
    "version_major": 2,
    "version_minor": 0
   }
  }
 },
 "nbformat": 4,
 "nbformat_minor": 4
}
